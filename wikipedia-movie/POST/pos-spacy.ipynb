{
 "cells": [
  {
   "cell_type": "code",
   "execution_count": 1,
   "id": "500d77b7-b98d-496f-aa50-498b32d75435",
   "metadata": {},
   "outputs": [],
   "source": [
    "import numpy as np\n",
    "import pandas as pd\n",
    "import nltk\n",
    "from nltk import word_tokenize\n",
    "import spacy\n",
    "from spacy import displacy\n",
    "import string\n",
    "import seaborn as sb\n",
    "import matplotlib.pyplot as plt"
   ]
  },
  {
   "cell_type": "code",
   "execution_count": 2,
   "id": "096f080e-1bae-40ea-80d2-e26a86f32a1c",
   "metadata": {},
   "outputs": [
    {
     "data": {
      "text/html": [
       "<div>\n",
       "<style scoped>\n",
       "    .dataframe tbody tr th:only-of-type {\n",
       "        vertical-align: middle;\n",
       "    }\n",
       "\n",
       "    .dataframe tbody tr th {\n",
       "        vertical-align: top;\n",
       "    }\n",
       "\n",
       "    .dataframe thead th {\n",
       "        text-align: right;\n",
       "    }\n",
       "</style>\n",
       "<table border=\"1\" class=\"dataframe\">\n",
       "  <thead>\n",
       "    <tr style=\"text-align: right;\">\n",
       "      <th></th>\n",
       "      <th>Release Year</th>\n",
       "      <th>Title</th>\n",
       "      <th>Origin/Ethnicity</th>\n",
       "      <th>Director</th>\n",
       "      <th>Cast</th>\n",
       "      <th>Genre</th>\n",
       "      <th>Wiki Page</th>\n",
       "      <th>Plot</th>\n",
       "    </tr>\n",
       "  </thead>\n",
       "  <tbody>\n",
       "    <tr>\n",
       "      <th>0</th>\n",
       "      <td>1901</td>\n",
       "      <td>Kansas Saloon Smashers</td>\n",
       "      <td>American</td>\n",
       "      <td>Unknown</td>\n",
       "      <td>NaN</td>\n",
       "      <td>unknown</td>\n",
       "      <td>https://en.wikipedia.org/wiki/Kansas_Saloon_Sm...</td>\n",
       "      <td>A bartender is working at a saloon, serving dr...</td>\n",
       "    </tr>\n",
       "    <tr>\n",
       "      <th>1</th>\n",
       "      <td>1901</td>\n",
       "      <td>Love by the Light of the Moon</td>\n",
       "      <td>American</td>\n",
       "      <td>Unknown</td>\n",
       "      <td>NaN</td>\n",
       "      <td>unknown</td>\n",
       "      <td>https://en.wikipedia.org/wiki/Love_by_the_Ligh...</td>\n",
       "      <td>The moon, painted with a smiling face hangs ov...</td>\n",
       "    </tr>\n",
       "    <tr>\n",
       "      <th>2</th>\n",
       "      <td>1901</td>\n",
       "      <td>The Martyred Presidents</td>\n",
       "      <td>American</td>\n",
       "      <td>Unknown</td>\n",
       "      <td>NaN</td>\n",
       "      <td>unknown</td>\n",
       "      <td>https://en.wikipedia.org/wiki/The_Martyred_Pre...</td>\n",
       "      <td>The film, just over a minute long, is composed...</td>\n",
       "    </tr>\n",
       "    <tr>\n",
       "      <th>3</th>\n",
       "      <td>1901</td>\n",
       "      <td>Terrible Teddy, the Grizzly King</td>\n",
       "      <td>American</td>\n",
       "      <td>Unknown</td>\n",
       "      <td>NaN</td>\n",
       "      <td>unknown</td>\n",
       "      <td>https://en.wikipedia.org/wiki/Terrible_Teddy,_...</td>\n",
       "      <td>Lasting just 61 seconds and consisting of two ...</td>\n",
       "    </tr>\n",
       "    <tr>\n",
       "      <th>4</th>\n",
       "      <td>1902</td>\n",
       "      <td>Jack and the Beanstalk</td>\n",
       "      <td>American</td>\n",
       "      <td>George S. Fleming, Edwin S. Porter</td>\n",
       "      <td>NaN</td>\n",
       "      <td>unknown</td>\n",
       "      <td>https://en.wikipedia.org/wiki/Jack_and_the_Bea...</td>\n",
       "      <td>The earliest known adaptation of the classic f...</td>\n",
       "    </tr>\n",
       "  </tbody>\n",
       "</table>\n",
       "</div>"
      ],
      "text/plain": [
       "   Release Year                             Title Origin/Ethnicity  \\\n",
       "0          1901            Kansas Saloon Smashers         American   \n",
       "1          1901     Love by the Light of the Moon         American   \n",
       "2          1901           The Martyred Presidents         American   \n",
       "3          1901  Terrible Teddy, the Grizzly King         American   \n",
       "4          1902            Jack and the Beanstalk         American   \n",
       "\n",
       "                             Director Cast    Genre  \\\n",
       "0                             Unknown  NaN  unknown   \n",
       "1                             Unknown  NaN  unknown   \n",
       "2                             Unknown  NaN  unknown   \n",
       "3                             Unknown  NaN  unknown   \n",
       "4  George S. Fleming, Edwin S. Porter  NaN  unknown   \n",
       "\n",
       "                                           Wiki Page  \\\n",
       "0  https://en.wikipedia.org/wiki/Kansas_Saloon_Sm...   \n",
       "1  https://en.wikipedia.org/wiki/Love_by_the_Ligh...   \n",
       "2  https://en.wikipedia.org/wiki/The_Martyred_Pre...   \n",
       "3  https://en.wikipedia.org/wiki/Terrible_Teddy,_...   \n",
       "4  https://en.wikipedia.org/wiki/Jack_and_the_Bea...   \n",
       "\n",
       "                                                Plot  \n",
       "0  A bartender is working at a saloon, serving dr...  \n",
       "1  The moon, painted with a smiling face hangs ov...  \n",
       "2  The film, just over a minute long, is composed...  \n",
       "3  Lasting just 61 seconds and consisting of two ...  \n",
       "4  The earliest known adaptation of the classic f...  "
      ]
     },
     "execution_count": 2,
     "metadata": {},
     "output_type": "execute_result"
    }
   ],
   "source": [
    "df = pd.read_csv('../wiki_movie_plots_deduped.csv')\n",
    "df.head()"
   ]
  },
  {
   "cell_type": "code",
   "execution_count": 3,
   "id": "e8a18107-19bc-4764-9be7-aa2deb8ff7a2",
   "metadata": {},
   "outputs": [
    {
     "data": {
      "text/plain": [
       "(34886, 8)"
      ]
     },
     "execution_count": 3,
     "metadata": {},
     "output_type": "execute_result"
    }
   ],
   "source": [
    "df.shape"
   ]
  },
  {
   "cell_type": "code",
   "execution_count": 4,
   "id": "c7ae7a0a-4152-4079-b743-ea09bf481862",
   "metadata": {},
   "outputs": [],
   "source": [
    "df = df.drop_duplicates(subset='Plot', keep='first')"
   ]
  },
  {
   "cell_type": "code",
   "execution_count": 5,
   "id": "5a391275-7962-498a-aa33-56f80d04be0a",
   "metadata": {},
   "outputs": [
    {
     "data": {
      "text/plain": [
       "(33869, 8)"
      ]
     },
     "execution_count": 5,
     "metadata": {},
     "output_type": "execute_result"
    }
   ],
   "source": [
    "df.shape"
   ]
  },
  {
   "cell_type": "code",
   "execution_count": 6,
   "id": "95d51f10-3cb0-4c1a-bf4d-9535842d0507",
   "metadata": {},
   "outputs": [
    {
     "name": "stdout",
     "output_type": "stream",
     "text": [
      "<class 'pandas.core.series.Series'>\n",
      "(33869,)\n"
     ]
    }
   ],
   "source": [
    "text = df['Plot']\n",
    "print(type(text))\n",
    "print(text.shape)"
   ]
  },
  {
   "cell_type": "code",
   "execution_count": 7,
   "id": "cf3a4d83-ea99-40a8-baf1-49afa1650e4b",
   "metadata": {},
   "outputs": [
    {
     "name": "stderr",
     "output_type": "stream",
     "text": [
      "/var/folders/b2/_68m8r0j7rqg0k17ytq7jtc80000gn/T/ipykernel_1504/3862757789.py:1: FutureWarning: The behavior of `series[i:j]` with an integer-dtype index is deprecated. In a future version, this will be treated as *label-based* indexing, consistent with e.g. `series[i]` lookups. To retain the old behavior, use `series.iloc[i:j]`. To get the future behavior, use `series.loc[i:j]`.\n",
      "  text[0:10]\n"
     ]
    },
    {
     "data": {
      "text/plain": [
       "0    A bartender is working at a saloon, serving dr...\n",
       "1    The moon, painted with a smiling face hangs ov...\n",
       "2    The film, just over a minute long, is composed...\n",
       "3    Lasting just 61 seconds and consisting of two ...\n",
       "4    The earliest known adaptation of the classic f...\n",
       "5    Alice follows a large white rabbit down a \"Rab...\n",
       "6    The film opens with two bandits breaking into ...\n",
       "7    The film is about a family who move to the sub...\n",
       "8    The opening scene shows the interior of the ro...\n",
       "9    Scenes are introduced using lines of the poem....\n",
       "Name: Plot, dtype: object"
      ]
     },
     "execution_count": 7,
     "metadata": {},
     "output_type": "execute_result"
    }
   ],
   "source": [
    "text[0:10]"
   ]
  },
  {
   "cell_type": "markdown",
   "id": "d6042aa7-571c-46b2-8050-57e0708b9581",
   "metadata": {},
   "source": [
    "## POS with spaCy"
   ]
  },
  {
   "cell_type": "code",
   "execution_count": 8,
   "id": "bd92f908-1304-4380-a09a-75ed4c8a59fd",
   "metadata": {},
   "outputs": [],
   "source": [
    "nlp = spacy.load(\"en_core_web_sm\")"
   ]
  },
  {
   "cell_type": "code",
   "execution_count": 9,
   "id": "0490e25d-738b-4969-aecf-98a961a86952",
   "metadata": {},
   "outputs": [],
   "source": [
    "docs = list(nlp.pipe(text))"
   ]
  },
  {
   "cell_type": "code",
   "execution_count": 10,
   "id": "8eddca02-ab41-4685-ba14-2b3d83e34a2f",
   "metadata": {},
   "outputs": [],
   "source": [
    "# columns = ['ID', 'Text', 'Token', 'Lemma', 'POS', 'POS Tag', 'Dep', 'Is_stop']"
   ]
  },
  {
   "cell_type": "code",
   "execution_count": 11,
   "id": "7410fc35-8c40-45e7-99a9-f69570796bbc",
   "metadata": {},
   "outputs": [
    {
     "data": {
      "text/html": [
       "<div>\n",
       "<style scoped>\n",
       "    .dataframe tbody tr th:only-of-type {\n",
       "        vertical-align: middle;\n",
       "    }\n",
       "\n",
       "    .dataframe tbody tr th {\n",
       "        vertical-align: top;\n",
       "    }\n",
       "\n",
       "    .dataframe thead th {\n",
       "        text-align: right;\n",
       "    }\n",
       "</style>\n",
       "<table border=\"1\" class=\"dataframe\">\n",
       "  <thead>\n",
       "    <tr style=\"text-align: right;\">\n",
       "      <th></th>\n",
       "      <th>ID</th>\n",
       "      <th>Text</th>\n",
       "      <th>Token</th>\n",
       "      <th>Lemma</th>\n",
       "      <th>POS</th>\n",
       "      <th>POS Tag</th>\n",
       "      <th>Dep</th>\n",
       "      <th>Is_stop</th>\n",
       "    </tr>\n",
       "  </thead>\n",
       "  <tbody>\n",
       "  </tbody>\n",
       "</table>\n",
       "</div>"
      ],
      "text/plain": [
       "Empty DataFrame\n",
       "Columns: [ID, Text, Token, Lemma, POS, POS Tag, Dep, Is_stop]\n",
       "Index: []"
      ]
     },
     "execution_count": 11,
     "metadata": {},
     "output_type": "execute_result"
    }
   ],
   "source": [
    "# annotation = pd.DataFrame(columns = columns)\n",
    "# annotation"
   ]
  },
  {
   "cell_type": "code",
   "execution_count": 12,
   "id": "106705b3-ed1e-4053-a4e7-24ee0f942e35",
   "metadata": {},
   "outputs": [],
   "source": [
    "# count = 0\n",
    "# for txt_idx, doc in enumerate(docs):\n",
    "#     for token in doc:\n",
    "#         annotation.loc[count] = {'ID': txt_idx, 'Text': doc.text, 'Token': token.text, \n",
    "#                                  'Lemma': token.lemma_, 'POS': token.pos_, 'POS Tag': token.tag_, \n",
    "#                                  'Dep': token.dep_, 'Is_stop': token.is_stop}\n",
    "#         count += 1"
   ]
  },
  {
   "cell_type": "code",
   "execution_count": 13,
   "id": "35a585ec-13ff-40d1-bf81-eb823640a525",
   "metadata": {},
   "outputs": [],
   "source": [
    "pred_tags = [[(token.text, token.tag_) for token in doc] for doc in docs]"
   ]
  },
  {
   "cell_type": "code",
   "execution_count": 14,
   "id": "8dc72e3d-4f60-4125-b8c8-1ec134c1bdb3",
   "metadata": {},
   "outputs": [
    {
     "data": {
      "text/plain": [
       "True"
      ]
     },
     "execution_count": 14,
     "metadata": {},
     "output_type": "execute_result"
    }
   ],
   "source": [
    "len(pred_tags) == len(df)"
   ]
  },
  {
   "cell_type": "code",
   "execution_count": 16,
   "id": "85adedf7-78bc-496c-8515-02c7e9537509",
   "metadata": {
    "collapsed": true,
    "jupyter": {
     "outputs_hidden": true
    },
    "tags": []
   },
   "outputs": [
    {
     "data": {
      "text/plain": [
       "[('A', 'DT'),\n",
       " ('bartender', 'NN'),\n",
       " ('is', 'VBZ'),\n",
       " ('working', 'VBG'),\n",
       " ('at', 'IN'),\n",
       " ('a', 'DT'),\n",
       " ('saloon', 'NN'),\n",
       " (',', ','),\n",
       " ('serving', 'VBG'),\n",
       " ('drinks', 'NNS'),\n",
       " ('to', 'IN'),\n",
       " ('customers', 'NNS'),\n",
       " ('.', '.'),\n",
       " ('After', 'IN'),\n",
       " ('he', 'PRP'),\n",
       " ('fills', 'VBZ'),\n",
       " ('a', 'DT'),\n",
       " ('stereotypically', 'RB'),\n",
       " ('Irish', 'JJ'),\n",
       " ('man', 'NN'),\n",
       " (\"'s\", 'POS'),\n",
       " ('bucket', 'NN'),\n",
       " ('with', 'IN'),\n",
       " ('beer', 'NN'),\n",
       " (',', ','),\n",
       " ('Carrie', 'NNP'),\n",
       " ('Nation', 'NNP'),\n",
       " ('and', 'CC'),\n",
       " ('her', 'PRP$'),\n",
       " ('followers', 'NNS'),\n",
       " ('burst', 'VBP'),\n",
       " ('inside', 'RB'),\n",
       " ('.', '.'),\n",
       " ('They', 'PRP'),\n",
       " ('assault', 'VBP'),\n",
       " ('the', 'DT'),\n",
       " ('Irish', 'JJ'),\n",
       " ('man', 'NN'),\n",
       " (',', ','),\n",
       " ('pulling', 'VBG'),\n",
       " ('his', 'PRP$'),\n",
       " ('hat', 'NN'),\n",
       " ('over', 'IN'),\n",
       " ('his', 'PRP$'),\n",
       " ('eyes', 'NNS'),\n",
       " ('and', 'CC'),\n",
       " ('then', 'RB'),\n",
       " ('dumping', 'VBG'),\n",
       " ('the', 'DT'),\n",
       " ('beer', 'NN'),\n",
       " ('over', 'IN'),\n",
       " ('his', 'PRP$'),\n",
       " ('head', 'NN'),\n",
       " ('.', '.'),\n",
       " ('The', 'DT'),\n",
       " ('group', 'NN'),\n",
       " ('then', 'RB'),\n",
       " ('begin', 'VB'),\n",
       " ('wrecking', 'VBG'),\n",
       " ('the', 'DT'),\n",
       " ('bar', 'NN'),\n",
       " (',', ','),\n",
       " ('smashing', 'VBG'),\n",
       " ('the', 'DT'),\n",
       " ('fixtures', 'NNS'),\n",
       " (',', ','),\n",
       " ('mirrors', 'NNS'),\n",
       " (',', ','),\n",
       " ('and', 'CC'),\n",
       " ('breaking', 'VBG'),\n",
       " ('the', 'DT'),\n",
       " ('cash', 'NN'),\n",
       " ('register', 'NN'),\n",
       " ('.', '.'),\n",
       " ('The', 'DT'),\n",
       " ('bartender', 'NN'),\n",
       " ('then', 'RB'),\n",
       " ('sprays', 'VBZ'),\n",
       " ('seltzer', 'NN'),\n",
       " ('water', 'NN'),\n",
       " ('in', 'IN'),\n",
       " ('Nation', 'NNP'),\n",
       " (\"'s\", 'POS'),\n",
       " ('face', 'NN'),\n",
       " ('before', 'IN'),\n",
       " ('a', 'DT'),\n",
       " ('group', 'NN'),\n",
       " ('of', 'IN'),\n",
       " ('policemen', 'NNS'),\n",
       " ('appear', 'VBP'),\n",
       " ('and', 'CC'),\n",
       " ('order', 'VB'),\n",
       " ('everybody', 'NN'),\n",
       " ('to', 'TO'),\n",
       " ('leave.[1', 'VB'),\n",
       " (']', '-RRB-')]"
      ]
     },
     "execution_count": 16,
     "metadata": {},
     "output_type": "execute_result"
    }
   ],
   "source": [
    "pred_tags[0]"
   ]
  },
  {
   "cell_type": "code",
   "execution_count": 15,
   "id": "00b83317-f273-490e-9016-ad821b2bef7a",
   "metadata": {},
   "outputs": [],
   "source": [
    "#saving pred_tags\n",
    "import pickle\n",
    "\n",
    "with open('../Output/pred_tags_spacy', 'wb') as fp:\n",
    "    pickle.dump(pred_tags, fp)"
   ]
  },
  {
   "cell_type": "code",
   "execution_count": null,
   "id": "94cfc5ed-dc2a-4686-8938-3de784046f95",
   "metadata": {},
   "outputs": [],
   "source": []
  }
 ],
 "metadata": {
  "kernelspec": {
   "display_name": "Python 3 (ipykernel)",
   "language": "python",
   "name": "python3"
  },
  "language_info": {
   "codemirror_mode": {
    "name": "ipython",
    "version": 3
   },
   "file_extension": ".py",
   "mimetype": "text/x-python",
   "name": "python",
   "nbconvert_exporter": "python",
   "pygments_lexer": "ipython3",
   "version": "3.9.13"
  }
 },
 "nbformat": 4,
 "nbformat_minor": 5
}
