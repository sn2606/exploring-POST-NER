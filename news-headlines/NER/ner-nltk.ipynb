{
 "cells": [
  {
   "cell_type": "code",
   "execution_count": 1,
   "id": "6515069f-e929-4804-97c3-fcbbf10e7043",
   "metadata": {},
   "outputs": [],
   "source": [
    "import pickle\n",
    "\n",
    "with open('../text-input', 'rb') as fp:\n",
    "    text = pickle.load(fp)"
   ]
  },
  {
   "cell_type": "code",
   "execution_count": 2,
   "id": "a5a22060-2681-496c-8adf-67d0b9a84847",
   "metadata": {},
   "outputs": [],
   "source": [
    "import nltk\n",
    "from nltk.corpus import stopwords\n",
    "from nltk.tokenize import word_tokenize, sent_tokenize\n",
    "stop_words = set(stopwords.words('english'))"
   ]
  },
  {
   "cell_type": "code",
   "execution_count": 3,
   "id": "e762e48d-a078-4797-95c9-e12aa8483557",
   "metadata": {},
   "outputs": [],
   "source": [
    "def tokenize(sentence):\n",
    "    tokenized = sent_tokenize(sentence)\n",
    "    words_list = []\n",
    "    for i in tokenized:\n",
    "        wt = nltk.word_tokenize(i)\n",
    "        words_list.append(wt)#[w for w in wt if not w in stop_words]\n",
    "    return words_list"
   ]
  },
  {
   "cell_type": "code",
   "execution_count": 4,
   "id": "67522874-a9be-44f4-9b61-cd82d6c37508",
   "metadata": {},
   "outputs": [],
   "source": [
    "token_list = [tokenize(doc) for doc in text]"
   ]
  },
  {
   "cell_type": "code",
   "execution_count": 5,
   "id": "2176b4f8-d9cd-4343-819f-e778259181d1",
   "metadata": {},
   "outputs": [],
   "source": [
    "tagged_list = [[nltk.pos_tag(words) for words in tk] for tk in token_list]"
   ]
  },
  {
   "cell_type": "code",
   "execution_count": 6,
   "id": "b6bfe86a-08bf-499b-baf4-4691c53e1fdf",
   "metadata": {},
   "outputs": [],
   "source": [
    "ner_list = [[nltk.ne_chunk(tags) for tags in tg] for tg in tagged_list]"
   ]
  },
  {
   "cell_type": "code",
   "execution_count": 7,
   "id": "cecdaa5c-85ff-490c-9853-b0163d76a906",
   "metadata": {},
   "outputs": [
    {
     "data": {
      "text/plain": [
       "[[Tree('S', [('aba', 'JJ'), ('decides', 'NNS'), ('against', 'IN'), ('community', 'NN'), ('broadcasting', 'NN'), ('licence', 'NN')])],\n",
       " [Tree('S', [('act', 'NN'), ('fire', 'NN'), ('witnesses', 'NNS'), ('must', 'MD'), ('be', 'VB'), ('aware', 'JJ'), ('of', 'IN'), ('defamation', 'NN')])]]"
      ]
     },
     "execution_count": 7,
     "metadata": {},
     "output_type": "execute_result"
    }
   ],
   "source": [
    "ner_list[0:2]"
   ]
  },
  {
   "cell_type": "code",
   "execution_count": 8,
   "id": "ccf8d27c-ca51-4b23-9b7c-c6aea14de308",
   "metadata": {},
   "outputs": [
    {
     "data": {
      "text/plain": [
       "[Tree('S', [('aba', 'JJ'), ('decides', 'NNS'), ('against', 'IN'), ('community', 'NN'), ('broadcasting', 'NN'), ('licence', 'NN')])]"
      ]
     },
     "execution_count": 8,
     "metadata": {},
     "output_type": "execute_result"
    }
   ],
   "source": [
    "ner_list[0]"
   ]
  },
  {
   "cell_type": "code",
   "execution_count": 12,
   "id": "cb264711-33a6-47f4-8559-c0d5728d3a44",
   "metadata": {},
   "outputs": [
    {
     "data": {
      "text/plain": [
       "[('aba', 'JJ'),\n",
       " ('decides', 'NNS'),\n",
       " ('against', 'IN'),\n",
       " ('community', 'NN'),\n",
       " ('broadcasting', 'NN'),\n",
       " ('licence', 'NN')]"
      ]
     },
     "execution_count": 12,
     "metadata": {},
     "output_type": "execute_result"
    }
   ],
   "source": [
    "ner_list[0][0].leaves()"
   ]
  },
  {
   "cell_type": "code",
   "execution_count": null,
   "id": "3bae9728-e747-4c2b-848a-16213099c5b8",
   "metadata": {},
   "outputs": [],
   "source": []
  }
 ],
 "metadata": {
  "kernelspec": {
   "display_name": "Python 3 (ipykernel)",
   "language": "python",
   "name": "python3"
  },
  "language_info": {
   "codemirror_mode": {
    "name": "ipython",
    "version": 3
   },
   "file_extension": ".py",
   "mimetype": "text/x-python",
   "name": "python",
   "nbconvert_exporter": "python",
   "pygments_lexer": "ipython3",
   "version": "3.9.13"
  }
 },
 "nbformat": 4,
 "nbformat_minor": 5
}
