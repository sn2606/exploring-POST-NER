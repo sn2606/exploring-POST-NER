{
 "cells": [
  {
   "cell_type": "code",
   "execution_count": 1,
   "id": "f8f3dd50-78ce-4aee-b236-0df036148cf4",
   "metadata": {},
   "outputs": [],
   "source": [
    "import spacy\n",
    "from spacy import displacy\n",
    "import pickle"
   ]
  },
  {
   "cell_type": "code",
   "execution_count": 2,
   "id": "8ed05640-0e95-4106-a556-7bb9450d67e1",
   "metadata": {},
   "outputs": [],
   "source": [
    "with open('../text-input', 'rb') as fp:\n",
    "    text = pickle.load(fp)"
   ]
  },
  {
   "cell_type": "code",
   "execution_count": 3,
   "id": "6e8508c3-5a1a-4298-99f6-1f7b9382c8fa",
   "metadata": {},
   "outputs": [
    {
     "name": "stdout",
     "output_type": "stream",
     "text": [
      "<class 'pandas.core.series.Series'>\n"
     ]
    },
    {
     "data": {
      "text/plain": [
       "\"A bartender is working at a saloon, serving drinks to customers. After he fills a stereotypically Irish man's bucket with beer, Carrie Nation and her followers burst inside. They assault the Irish man, pulling his hat over his eyes and then dumping the beer over his head. The group then begin wrecking the bar, smashing the fixtures, mirrors, and breaking the cash register. The bartender then sprays seltzer water in Nation's face before a group of policemen appear and order everybody to leave.[1]\""
      ]
     },
     "execution_count": 3,
     "metadata": {},
     "output_type": "execute_result"
    }
   ],
   "source": [
    "print(type(text))\n",
    "text[0]"
   ]
  },
  {
   "cell_type": "code",
   "execution_count": 4,
   "id": "a5df6c29-1d16-4c46-9116-e311483dc226",
   "metadata": {},
   "outputs": [],
   "source": [
    "nlp = spacy.load(\"en_core_web_sm\")"
   ]
  },
  {
   "cell_type": "code",
   "execution_count": null,
   "id": "134fd095-3b2c-40c6-9ef4-993fad076e75",
   "metadata": {},
   "outputs": [],
   "source": [
    "docs = list(nlp.pipe(text))"
   ]
  },
  {
   "cell_type": "code",
   "execution_count": null,
   "id": "fe4f4d0c-a491-4371-b622-ca9df56d655d",
   "metadata": {},
   "outputs": [],
   "source": [
    "ner = [[(ent.text, ent.label_) for ent in doc.ents] for doc in docs]"
   ]
  }
 ],
 "metadata": {
  "kernelspec": {
   "display_name": "Python 3 (ipykernel)",
   "language": "python",
   "name": "python3"
  },
  "language_info": {
   "codemirror_mode": {
    "name": "ipython",
    "version": 3
   },
   "file_extension": ".py",
   "mimetype": "text/x-python",
   "name": "python",
   "nbconvert_exporter": "python",
   "pygments_lexer": "ipython3",
   "version": "3.9.13"
  }
 },
 "nbformat": 4,
 "nbformat_minor": 5
}
