{
 "cells": [
  {
   "cell_type": "code",
   "execution_count": 1,
   "id": "d465571e-5014-4b89-bc75-010c606e14c3",
   "metadata": {},
   "outputs": [],
   "source": [
    "import spacy\n",
    "import pickle"
   ]
  },
  {
   "cell_type": "code",
   "execution_count": 2,
   "id": "a2528594-5991-4b8e-88c3-488523d93a61",
   "metadata": {},
   "outputs": [],
   "source": [
    "with open('../text-input', 'rb') as fp:\n",
    "    text = pickle.load(fp)"
   ]
  },
  {
   "cell_type": "code",
   "execution_count": 3,
   "id": "b64c1d4b-e879-43da-be7a-01476dfcce80",
   "metadata": {},
   "outputs": [
    {
     "name": "stdout",
     "output_type": "stream",
     "text": [
      "<class 'pandas.core.series.Series'>\n"
     ]
    },
    {
     "data": {
      "text/plain": [
       "'aba decides against community broadcasting licence'"
      ]
     },
     "execution_count": 3,
     "metadata": {},
     "output_type": "execute_result"
    }
   ],
   "source": [
    "print(type(text))\n",
    "text[0]"
   ]
  },
  {
   "cell_type": "code",
   "execution_count": 4,
   "id": "6592dedf-f2fd-472c-b6b7-2a7d931e6f31",
   "metadata": {},
   "outputs": [],
   "source": [
    "nlp = spacy.load(\"en_core_web_sm\")"
   ]
  },
  {
   "cell_type": "code",
   "execution_count": 5,
   "id": "ab925467-40f2-45d0-b794-152981f87b5e",
   "metadata": {},
   "outputs": [],
   "source": [
    "docs = list(nlp.pipe(text))"
   ]
  },
  {
   "cell_type": "code",
   "execution_count": 10,
   "id": "7d49c77f-a8be-438e-8f20-43c5dff56a71",
   "metadata": {},
   "outputs": [],
   "source": [
    "ner = [[(ent.text, ent.label_) for ent in doc.ents] for doc in docs]"
   ]
  },
  {
   "cell_type": "code",
   "execution_count": 11,
   "id": "6965d8ca-bab7-4027-bb84-dd949bb43bb5",
   "metadata": {},
   "outputs": [
    {
     "data": {
      "text/plain": [
       "[[('aba', 'GPE')],\n",
       " [],\n",
       " [],\n",
       " [],\n",
       " [('air', 'ORG'), ('australian', 'NORP')],\n",
       " [],\n",
       " [],\n",
       " [('aussie qualifier stosur', 'PERSON'), ('four', 'CARDINAL')],\n",
       " [('un security council', 'ORG'), ('iraq', 'GPE')],\n",
       " [('australia', 'GPE')]]"
      ]
     },
     "execution_count": 11,
     "metadata": {},
     "output_type": "execute_result"
    }
   ],
   "source": [
    "ner[0:10]"
   ]
  },
  {
   "cell_type": "code",
   "execution_count": 13,
   "id": "46a623aa-d5a3-4471-8f68-4cffbe96efb3",
   "metadata": {},
   "outputs": [],
   "source": [
    "import pickle\n",
    "\n",
    "with open('../Output/pred_ner_spacy', 'wb') as fp:\n",
    "    pickle.dump(ner, fp)"
   ]
  },
  {
   "cell_type": "code",
   "execution_count": 19,
   "id": "15d9d9c2-11bb-467d-ad03-62dac9decae8",
   "metadata": {
    "tags": []
   },
   "outputs": [
    {
     "data": {
      "text/html": [
       "<span class=\"tex2jax_ignore\"><div class=\"entities\" style=\"line-height: 2.5; direction: ltr\">earthquake rocks \n",
       "<mark class=\"entity\" style=\"background: #feca74; padding: 0.45em 0.6em; margin: 0 0.25em; line-height: 1; border-radius: 0.35em;\">\n",
       "    china\n",
       "    <span style=\"font-size: 0.8em; font-weight: bold; line-height: 1; border-radius: 0.35em; vertical-align: middle; margin-left: 0.5rem\">GPE</span>\n",
       "</mark>\n",
       " \n",
       "<mark class=\"entity\" style=\"background: #e4e7d2; padding: 0.45em 0.6em; margin: 0 0.25em; line-height: 1; border-radius: 0.35em;\">\n",
       "    50\n",
       "    <span style=\"font-size: 0.8em; font-weight: bold; line-height: 1; border-radius: 0.35em; vertical-align: middle; margin-left: 0.5rem\">CARDINAL</span>\n",
       "</mark>\n",
       " dead</div></span>"
      ],
      "text/plain": [
       "<IPython.core.display.HTML object>"
      ]
     },
     "metadata": {},
     "output_type": "display_data"
    }
   ],
   "source": [
    "from spacy import displacy\n",
    "\n",
    "displacy.render(docs[1015], style=\"ent\", jupyter=True)"
   ]
  },
  {
   "cell_type": "code",
   "execution_count": null,
   "id": "90c7575f-b734-49a5-bb9b-65395cfff032",
   "metadata": {},
   "outputs": [],
   "source": []
  }
 ],
 "metadata": {
  "kernelspec": {
   "display_name": "Python 3 (ipykernel)",
   "language": "python",
   "name": "python3"
  },
  "language_info": {
   "codemirror_mode": {
    "name": "ipython",
    "version": 3
   },
   "file_extension": ".py",
   "mimetype": "text/x-python",
   "name": "python",
   "nbconvert_exporter": "python",
   "pygments_lexer": "ipython3",
   "version": "3.9.13"
  }
 },
 "nbformat": 4,
 "nbformat_minor": 5
}
