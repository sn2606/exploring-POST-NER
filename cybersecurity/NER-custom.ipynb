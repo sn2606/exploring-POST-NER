{
 "cells": [
  {
   "cell_type": "code",
   "execution_count": 1,
   "id": "6ccc4830",
   "metadata": {},
   "outputs": [],
   "source": [
    "import glob\n",
    "import nltk\n",
    "import spacy\n",
    "import os\n",
    "import string\n",
    "import pandas as pd\n",
    "from bs4 import BeautifulSoup\n",
    "import requests\n",
    "import re\n",
    "import matplotlib.pyplot as plt"
   ]
  },
  {
   "cell_type": "code",
   "execution_count": 2,
   "id": "8631669a",
   "metadata": {},
   "outputs": [],
   "source": [
    "os.chdir(r'./dataset')  #don't remove r and give extra space\n",
    "myFiles = glob.glob('*.txt')\n",
    "# print(myFiles)  #prints text file names"
   ]
  },
  {
   "cell_type": "code",
   "execution_count": 3,
   "id": "a371c4a9",
   "metadata": {},
   "outputs": [],
   "source": [
    "dict_words={}"
   ]
  },
  {
   "cell_type": "markdown",
   "id": "0dd288f6",
   "metadata": {},
   "source": [
    "# TOKENIZING THE CORPUS"
   ]
  },
  {
   "cell_type": "code",
   "execution_count": 4,
   "id": "02085dc8",
   "metadata": {},
   "outputs": [
    {
     "name": "stdout",
     "output_type": "stream",
     "text": [
      "486\n"
     ]
    }
   ],
   "source": [
    "from nltk.tokenize import word_tokenize\n",
    "from nltk.corpus import stopwords\n",
    "\n",
    "stop_words = set(stopwords.words('english'))\n",
    "\n",
    "for filename in myFiles:\n",
    "    # print(filename)\n",
    "    file = open(filename, 'rt', encoding=\"utf8\")\n",
    "    text = file.read()\n",
    "    # split into words\n",
    "    tokens = word_tokenize(text)\n",
    "    # convert to lower case\n",
    "    tokens = [w.lower() for w in tokens]\n",
    "    # remove punctuation from each word \n",
    "    table = str.maketrans('', '', string.punctuation)\n",
    "    stripped = [w.translate(table) for w in tokens]\n",
    "    # remove remaining tokens that are not alphabetic\n",
    "    words = [word for word in stripped if word.isalpha()]\n",
    "    # filter out stop words\n",
    "    words = [w for w in words if not w in stop_words]\n",
    "    words = list(set(words))\n",
    "    dict_words[filename] = words\n",
    "    words = []\n",
    "    file.close()\n",
    "\n",
    "print(len(dict_words))"
   ]
  },
  {
   "cell_type": "markdown",
   "id": "96773f66",
   "metadata": {},
   "source": [
    "## IMPORTING REQUIREMENTS FOR FURTHER STEPS"
   ]
  },
  {
   "cell_type": "code",
   "execution_count": 5,
   "id": "d6a8e30a",
   "metadata": {},
   "outputs": [],
   "source": [
    "import pandas as pd\n",
    "import numpy as np\n",
    "from nltk.tokenize import word_tokenize\n",
    "from nltk import pos_tag\n",
    "from nltk.corpus import stopwords\n",
    "from nltk.stem import WordNetLemmatizer\n",
    "from sklearn.preprocessing import LabelEncoder\n",
    "from collections import defaultdict\n",
    "from nltk.corpus import wordnet as wn\n",
    "from sklearn.feature_extraction.text import TfidfVectorizer\n",
    "from sklearn import model_selection, naive_bayes, svm\n",
    "from sklearn.metrics import accuracy_score\n",
    "\n",
    "np.random.seed(500)"
   ]
  },
  {
   "cell_type": "code",
   "execution_count": 6,
   "id": "1c99c5de-cee0-4074-861d-4c4f408b1780",
   "metadata": {},
   "outputs": [],
   "source": [
    "lemmatizer = WordNetLemmatizer()\n",
    "\n",
    "from nltk.corpus import wordnet\n",
    "\n",
    "def get_wordnet_pos(treebank_tag):\n",
    "    if treebank_tag.startswith('J'):\n",
    "        return wordnet.ADJ\n",
    "    elif treebank_tag.startswith('V'):\n",
    "        return wordnet.VERB\n",
    "    elif treebank_tag.startswith('N'):\n",
    "        return wordnet.NOUN\n",
    "    elif treebank_tag.startswith('R'):\n",
    "        return wordnet.ADV\n",
    "    else:\n",
    "        return None\n",
    "\n",
    "\n",
    "def lemmatize(text):\n",
    "    p = pos_tag(word_tokenize(text))\n",
    "    lemma = []\n",
    "    for i in range(len(p)):\n",
    "        pt = get_wordnet_pos(p[i][1])\n",
    "        if pt == None:\n",
    "            lemma.append(lemmatizer.lemmatize(p[i][0]))\n",
    "        else:\n",
    "            lemma.append(lemmatizer.lemmatize(p[i][0], pt))\n",
    "    return ' '.join(lemma)"
   ]
  },
  {
   "cell_type": "markdown",
   "id": "ec29fbf7",
   "metadata": {},
   "source": [
    "# CYBER SECURITY DICTIONARY"
   ]
  },
  {
   "cell_type": "code",
   "execution_count": 7,
   "id": "4cdf42e6",
   "metadata": {},
   "outputs": [],
   "source": [
    "# Define dictionary with related to cyber security and digital forensic domains.\n",
    "all_terms = ['access control', 'anti-virus', 'anti-malware', 'antivirus software', 'apt', 'advanced persistent threat', 'asset', \n",
    "            'authentication', 'authorization', 'backing up', 'bcp', 'business continuity planning', 'behavior monitoring',\n",
    "            'blacklist', 'block cipher', 'botnet', 'bug', 'byod', 'bring your own device', 'ciphertext', 'clickjacking', 'cloud computing',\n",
    "            'cnd', 'computer network defense', 'cracker', 'critical infrastructure', 'cve', 'common vulnerabilities and exposures',\n",
    "            'cryptography', 'cyberattack', 'cyber ecosystem', 'cyberespionage', 'cybersecurity', 'cyber teams', 'data breach',\n",
    "            'data integrity', 'data mining', 'data theft', 'ddos attack', 'distributed denial of service attack', 'decrypt',\n",
    "            'digital certificate', 'digital forensics', 'dlp', 'data loss prevention', 'dmz', 'demilitarized zone', 'dos',\n",
    "            'denial of service', 'drive-by download', 'eavesdropping', 'encode', 'encryption key', 'firewall', 'hacker', 'hacktivism',\n",
    "            'honeypot', 'iaas', 'infrastructure-as-a-service', 'identity cloning', 'identity fraud', 'ids', 'intrusion detection system',\n",
    "            'information security policy', 'insider threat', 'ips', 'intrusion prevention system', 'isp', 'internet service provider',\n",
    "            'jboh', 'javascript-binding-over-http', 'keylogger', 'lan', 'local area network', 'link jacking', 'malware', 'malicious software',\n",
    "            'outsider threat', 'outsourcing', 'owasp', 'open web application security project', 'paas', 'platform-as-a-service',\n",
    "            'packet sniffing', 'patch', 'patch management', 'payment card skimmers', 'pen testing', 'phishing', 'pki', 'public key infrastructure',\n",
    "            'pos intrusions', 'point of sale intrusions', 'ransomware', 'restore', 'risk assessment', 'risk management', 'saas',\n",
    "            'software-as-a-service', 'sandboxing', 'scada', 'supervisory control and data acquisition', 'security control',\n",
    "            'security perimeter', 'siem', 'security information and event management', 'sniffing', 'social engineering', 'spam',\n",
    "            'spear phishing', 'spoof', 'spoofing', 'spyware', 'supply chain', 'threat assessment', 'trojan horse', 'trojan',\n",
    "            'two-factor authentication', 'two-step authentication', 'unauthorized access', 'vpn', 'virtual private network',\n",
    "            'virus', 'vishing', 'vulnerability', 'whitelist', 'wi-fi', 'worm', 'zombie']\n",
    "\n",
    "all_terms = [lemmatize(term) for term in all_terms]\n",
    "\n",
    "# for i in range(len(all_terms)):\n",
    "#     print(i, \": \", all_terms[i], \" | \", all_terms2[i])\n",
    "    \n",
    "all_terms[47] = 'dos'\n",
    "all_terms[57] = 'iaas'\n",
    "all_terms[61] = 'ids'\n",
    "all_terms[65] = 'ips'"
   ]
  },
  {
   "cell_type": "code",
   "execution_count": 8,
   "id": "8b6d327d",
   "metadata": {},
   "outputs": [],
   "source": [
    "# Performing dictionary look up on the sentences stored in the dataset containing terms defined in our dictionary.\n",
    "def process_review(review):\n",
    "    processed_token = []\n",
    "    for token in review.split():\n",
    "        token = ''.join(e.lower() for e in token if e.isalnum())\n",
    "        processed_token.append(token)\n",
    "    return ' '.join(processed_token)\n",
    "\n",
    "def find_terms(text):\n",
    "    terms = []\n",
    "    review = process_review(text)\n",
    "    for term in all_terms:\n",
    "          if term in text:\n",
    "            terms.append(term) \n",
    "    return terms"
   ]
  },
  {
   "cell_type": "markdown",
   "id": "7078db54",
   "metadata": {},
   "source": [
    "# PREPROCESSING THE CORPUS"
   ]
  },
  {
   "cell_type": "code",
   "execution_count": 9,
   "id": "20de51e0",
   "metadata": {},
   "outputs": [],
   "source": [
    "preproc = {}\n",
    "\n",
    "for fil,ls in dict_words.items():\n",
    "    text = ' '.join(ls)\n",
    "    preproc[fil] = lemmatize(text)"
   ]
  },
  {
   "cell_type": "code",
   "execution_count": 10,
   "id": "6977acd4",
   "metadata": {},
   "outputs": [
    {
     "data": {
      "text/html": [
       "<div>\n",
       "<style scoped>\n",
       "    .dataframe tbody tr th:only-of-type {\n",
       "        vertical-align: middle;\n",
       "    }\n",
       "\n",
       "    .dataframe tbody tr th {\n",
       "        vertical-align: top;\n",
       "    }\n",
       "\n",
       "    .dataframe thead th {\n",
       "        text-align: right;\n",
       "    }\n",
       "</style>\n",
       "<table border=\"1\" class=\"dataframe\">\n",
       "  <thead>\n",
       "    <tr style=\"text-align: right;\">\n",
       "      <th></th>\n",
       "      <th>File</th>\n",
       "      <th>TokensLemmas</th>\n",
       "      <th>LookUpCBS</th>\n",
       "    </tr>\n",
       "  </thead>\n",
       "  <tbody>\n",
       "    <tr>\n",
       "      <th>0</th>\n",
       "      <td>018-armeniacancountrussiaanymo.txt</td>\n",
       "      <td>partnership beyond take russia specifically co...</td>\n",
       "      <td>[lan]</td>\n",
       "    </tr>\n",
       "    <tr>\n",
       "      <th>1</th>\n",
       "      <td>260-turkeyredlinefreespeechcen.txt</td>\n",
       "      <td>path move still akin picture gulen akit zero p...</td>\n",
       "      <td>[lan]</td>\n",
       "    </tr>\n",
       "    <tr>\n",
       "      <th>2</th>\n",
       "      <td>107-guardianviewontalksangelamerke.txt</td>\n",
       "      <td>move still middleweight putin raise careful de...</td>\n",
       "      <td>[isp]</td>\n",
       "    </tr>\n",
       "    <tr>\n",
       "      <th>3</th>\n",
       "      <td>205-popefrancissalmanrushdiechar.txt</td>\n",
       "      <td>pause highly prosecute terribly yell world bey...</td>\n",
       "      <td>[lan, virus, vulnerability]</td>\n",
       "    </tr>\n",
       "    <tr>\n",
       "      <th>4</th>\n",
       "      <td>013-anxiousbritainsuccourtvleadere.txt</td>\n",
       "      <td>human incomes world ever beyond attack kind sp...</td>\n",
       "      <td>[ids, isp, lan]</td>\n",
       "    </tr>\n",
       "    <tr>\n",
       "      <th>...</th>\n",
       "      <td>...</td>\n",
       "      <td>...</td>\n",
       "      <td>...</td>\n",
       "    </tr>\n",
       "    <tr>\n",
       "      <th>481</th>\n",
       "      <td>131-itgoinggetworsefrenchmuslims.txt</td>\n",
       "      <td>path team police taste opportunity shift world...</td>\n",
       "      <td>[ips, lan]</td>\n",
       "    </tr>\n",
       "    <tr>\n",
       "      <th>482</th>\n",
       "      <td>055-ciainterrogationsreportfeinste.txt</td>\n",
       "      <td>disagree team party justice reveal attack reig...</td>\n",
       "      <td>[apt, ips]</td>\n",
       "    </tr>\n",
       "    <tr>\n",
       "      <th>483</th>\n",
       "      <td>132-itnottimedismantlecia.txt</td>\n",
       "      <td>harry significance mcgovern favour disturbed t...</td>\n",
       "      <td>[lan]</td>\n",
       "    </tr>\n",
       "    <tr>\n",
       "      <th>484</th>\n",
       "      <td>242-sonynorthkoreaandinterviewwhen.txt</td>\n",
       "      <td>human basic regal world mass christian cinema ...</td>\n",
       "      <td>[ids, isp, lan]</td>\n",
       "    </tr>\n",
       "    <tr>\n",
       "      <th>485</th>\n",
       "      <td>254-toomanyofusinpointlessjobsbutd.txt</td>\n",
       "      <td>human vision poster world make take every game...</td>\n",
       "      <td>[isp]</td>\n",
       "    </tr>\n",
       "  </tbody>\n",
       "</table>\n",
       "<p>486 rows × 3 columns</p>\n",
       "</div>"
      ],
      "text/plain": [
       "                                       File  \\\n",
       "0        018-armeniacancountrussiaanymo.txt   \n",
       "1        260-turkeyredlinefreespeechcen.txt   \n",
       "2    107-guardianviewontalksangelamerke.txt   \n",
       "3      205-popefrancissalmanrushdiechar.txt   \n",
       "4    013-anxiousbritainsuccourtvleadere.txt   \n",
       "..                                      ...   \n",
       "481    131-itgoinggetworsefrenchmuslims.txt   \n",
       "482  055-ciainterrogationsreportfeinste.txt   \n",
       "483           132-itnottimedismantlecia.txt   \n",
       "484  242-sonynorthkoreaandinterviewwhen.txt   \n",
       "485  254-toomanyofusinpointlessjobsbutd.txt   \n",
       "\n",
       "                                          TokensLemmas  \\\n",
       "0    partnership beyond take russia specifically co...   \n",
       "1    path move still akin picture gulen akit zero p...   \n",
       "2    move still middleweight putin raise careful de...   \n",
       "3    pause highly prosecute terribly yell world bey...   \n",
       "4    human incomes world ever beyond attack kind sp...   \n",
       "..                                                 ...   \n",
       "481  path team police taste opportunity shift world...   \n",
       "482  disagree team party justice reveal attack reig...   \n",
       "483  harry significance mcgovern favour disturbed t...   \n",
       "484  human basic regal world mass christian cinema ...   \n",
       "485  human vision poster world make take every game...   \n",
       "\n",
       "                       LookUpCBS  \n",
       "0                          [lan]  \n",
       "1                          [lan]  \n",
       "2                          [isp]  \n",
       "3    [lan, virus, vulnerability]  \n",
       "4                [ids, isp, lan]  \n",
       "..                           ...  \n",
       "481                   [ips, lan]  \n",
       "482                   [apt, ips]  \n",
       "483                        [lan]  \n",
       "484              [ids, isp, lan]  \n",
       "485                        [isp]  \n",
       "\n",
       "[486 rows x 3 columns]"
      ]
     },
     "execution_count": 10,
     "metadata": {},
     "output_type": "execute_result"
    }
   ],
   "source": [
    "corpus = pd.DataFrame.from_dict(preproc, orient = 'index')\n",
    "corpus.reset_index(level = 0, inplace = True)\n",
    "corpus.columns = ['File', 'TokensLemmas']\n",
    "corpus['LookUpCBS'] = corpus['TokensLemmas'].apply(find_terms)\n",
    "# df1 = corpus[corpus.isna().any(axis=1)]\n",
    "# df1\n",
    "# corpus.dropna(inplace = True)\n",
    "corpus"
   ]
  },
  {
   "cell_type": "code",
   "execution_count": 11,
   "id": "9e3914fe",
   "metadata": {},
   "outputs": [
    {
     "data": {
      "text/html": [
       "<div>\n",
       "<style scoped>\n",
       "    .dataframe tbody tr th:only-of-type {\n",
       "        vertical-align: middle;\n",
       "    }\n",
       "\n",
       "    .dataframe tbody tr th {\n",
       "        vertical-align: top;\n",
       "    }\n",
       "\n",
       "    .dataframe thead th {\n",
       "        text-align: right;\n",
       "    }\n",
       "</style>\n",
       "<table border=\"1\" class=\"dataframe\">\n",
       "  <thead>\n",
       "    <tr style=\"text-align: right;\">\n",
       "      <th></th>\n",
       "      <th>File</th>\n",
       "      <th>TokensLemmas</th>\n",
       "      <th>LookUpCBS</th>\n",
       "      <th>No. of matches</th>\n",
       "    </tr>\n",
       "  </thead>\n",
       "  <tbody>\n",
       "    <tr>\n",
       "      <th>0</th>\n",
       "      <td>018-armeniacancountrussiaanymo.txt</td>\n",
       "      <td>partnership beyond take russia specifically co...</td>\n",
       "      <td>[lan]</td>\n",
       "      <td>1</td>\n",
       "    </tr>\n",
       "    <tr>\n",
       "      <th>1</th>\n",
       "      <td>260-turkeyredlinefreespeechcen.txt</td>\n",
       "      <td>path move still akin picture gulen akit zero p...</td>\n",
       "      <td>[lan]</td>\n",
       "      <td>1</td>\n",
       "    </tr>\n",
       "    <tr>\n",
       "      <th>2</th>\n",
       "      <td>107-guardianviewontalksangelamerke.txt</td>\n",
       "      <td>move still middleweight putin raise careful de...</td>\n",
       "      <td>[isp]</td>\n",
       "      <td>1</td>\n",
       "    </tr>\n",
       "    <tr>\n",
       "      <th>3</th>\n",
       "      <td>205-popefrancissalmanrushdiechar.txt</td>\n",
       "      <td>pause highly prosecute terribly yell world bey...</td>\n",
       "      <td>[lan, virus, vulnerability]</td>\n",
       "      <td>3</td>\n",
       "    </tr>\n",
       "    <tr>\n",
       "      <th>4</th>\n",
       "      <td>013-anxiousbritainsuccourtvleadere.txt</td>\n",
       "      <td>human incomes world ever beyond attack kind sp...</td>\n",
       "      <td>[ids, isp, lan]</td>\n",
       "      <td>3</td>\n",
       "    </tr>\n",
       "    <tr>\n",
       "      <th>...</th>\n",
       "      <td>...</td>\n",
       "      <td>...</td>\n",
       "      <td>...</td>\n",
       "      <td>...</td>\n",
       "    </tr>\n",
       "    <tr>\n",
       "      <th>481</th>\n",
       "      <td>131-itgoinggetworsefrenchmuslims.txt</td>\n",
       "      <td>path team police taste opportunity shift world...</td>\n",
       "      <td>[ips, lan]</td>\n",
       "      <td>2</td>\n",
       "    </tr>\n",
       "    <tr>\n",
       "      <th>482</th>\n",
       "      <td>055-ciainterrogationsreportfeinste.txt</td>\n",
       "      <td>disagree team party justice reveal attack reig...</td>\n",
       "      <td>[apt, ips]</td>\n",
       "      <td>2</td>\n",
       "    </tr>\n",
       "    <tr>\n",
       "      <th>483</th>\n",
       "      <td>132-itnottimedismantlecia.txt</td>\n",
       "      <td>harry significance mcgovern favour disturbed t...</td>\n",
       "      <td>[lan]</td>\n",
       "      <td>1</td>\n",
       "    </tr>\n",
       "    <tr>\n",
       "      <th>484</th>\n",
       "      <td>242-sonynorthkoreaandinterviewwhen.txt</td>\n",
       "      <td>human basic regal world mass christian cinema ...</td>\n",
       "      <td>[ids, isp, lan]</td>\n",
       "      <td>3</td>\n",
       "    </tr>\n",
       "    <tr>\n",
       "      <th>485</th>\n",
       "      <td>254-toomanyofusinpointlessjobsbutd.txt</td>\n",
       "      <td>human vision poster world make take every game...</td>\n",
       "      <td>[isp]</td>\n",
       "      <td>1</td>\n",
       "    </tr>\n",
       "  </tbody>\n",
       "</table>\n",
       "<p>486 rows × 4 columns</p>\n",
       "</div>"
      ],
      "text/plain": [
       "                                       File  \\\n",
       "0        018-armeniacancountrussiaanymo.txt   \n",
       "1        260-turkeyredlinefreespeechcen.txt   \n",
       "2    107-guardianviewontalksangelamerke.txt   \n",
       "3      205-popefrancissalmanrushdiechar.txt   \n",
       "4    013-anxiousbritainsuccourtvleadere.txt   \n",
       "..                                      ...   \n",
       "481    131-itgoinggetworsefrenchmuslims.txt   \n",
       "482  055-ciainterrogationsreportfeinste.txt   \n",
       "483           132-itnottimedismantlecia.txt   \n",
       "484  242-sonynorthkoreaandinterviewwhen.txt   \n",
       "485  254-toomanyofusinpointlessjobsbutd.txt   \n",
       "\n",
       "                                          TokensLemmas  \\\n",
       "0    partnership beyond take russia specifically co...   \n",
       "1    path move still akin picture gulen akit zero p...   \n",
       "2    move still middleweight putin raise careful de...   \n",
       "3    pause highly prosecute terribly yell world bey...   \n",
       "4    human incomes world ever beyond attack kind sp...   \n",
       "..                                                 ...   \n",
       "481  path team police taste opportunity shift world...   \n",
       "482  disagree team party justice reveal attack reig...   \n",
       "483  harry significance mcgovern favour disturbed t...   \n",
       "484  human basic regal world mass christian cinema ...   \n",
       "485  human vision poster world make take every game...   \n",
       "\n",
       "                       LookUpCBS  No. of matches  \n",
       "0                          [lan]               1  \n",
       "1                          [lan]               1  \n",
       "2                          [isp]               1  \n",
       "3    [lan, virus, vulnerability]               3  \n",
       "4                [ids, isp, lan]               3  \n",
       "..                           ...             ...  \n",
       "481                   [ips, lan]               2  \n",
       "482                   [apt, ips]               2  \n",
       "483                        [lan]               1  \n",
       "484              [ids, isp, lan]               3  \n",
       "485                        [isp]               1  \n",
       "\n",
       "[486 rows x 4 columns]"
      ]
     },
     "execution_count": 11,
     "metadata": {},
     "output_type": "execute_result"
    }
   ],
   "source": [
    "match_lens = []\n",
    "\n",
    "for i in range(len(corpus)):\n",
    "    match_lens.append(len(corpus.loc[i,'LookUpCBS']))\n",
    "\n",
    "corpus['No. of matches'] = match_lens\n",
    "corpus"
   ]
  },
  {
   "cell_type": "code",
   "execution_count": 12,
   "id": "ceb2a19e-1c1c-4cef-ba17-25702d368138",
   "metadata": {},
   "outputs": [
    {
     "data": {
      "text/plain": [
       "1     136\n",
       "2     106\n",
       "0      44\n",
       "3      43\n",
       "4      35\n",
       "6      24\n",
       "5      21\n",
       "7      20\n",
       "8      14\n",
       "9       8\n",
       "11      6\n",
       "10      6\n",
       "13      5\n",
       "12      3\n",
       "14      3\n",
       "16      2\n",
       "20      2\n",
       "22      2\n",
       "17      2\n",
       "18      1\n",
       "15      1\n",
       "30      1\n",
       "24      1\n",
       "Name: No. of matches, dtype: int64"
      ]
     },
     "execution_count": 12,
     "metadata": {},
     "output_type": "execute_result"
    }
   ],
   "source": [
    "corpus['No. of matches'].value_counts()"
   ]
  },
  {
   "cell_type": "code",
   "execution_count": 13,
   "id": "fde414c5",
   "metadata": {},
   "outputs": [
    {
     "data": {
      "text/html": [
       "<div>\n",
       "<style scoped>\n",
       "    .dataframe tbody tr th:only-of-type {\n",
       "        vertical-align: middle;\n",
       "    }\n",
       "\n",
       "    .dataframe tbody tr th {\n",
       "        vertical-align: top;\n",
       "    }\n",
       "\n",
       "    .dataframe thead th {\n",
       "        text-align: right;\n",
       "    }\n",
       "</style>\n",
       "<table border=\"1\" class=\"dataframe\">\n",
       "  <thead>\n",
       "    <tr style=\"text-align: right;\">\n",
       "      <th></th>\n",
       "      <th>File</th>\n",
       "      <th>TokensLemmas</th>\n",
       "      <th>LookUpCBS</th>\n",
       "      <th>No. of matches</th>\n",
       "      <th>FileType</th>\n",
       "    </tr>\n",
       "  </thead>\n",
       "  <tbody>\n",
       "    <tr>\n",
       "      <th>0</th>\n",
       "      <td>018-armeniacancountrussiaanymo.txt</td>\n",
       "      <td>partnership beyond take russia specifically co...</td>\n",
       "      <td>[lan]</td>\n",
       "      <td>1</td>\n",
       "      <td>0</td>\n",
       "    </tr>\n",
       "    <tr>\n",
       "      <th>1</th>\n",
       "      <td>260-turkeyredlinefreespeechcen.txt</td>\n",
       "      <td>path move still akin picture gulen akit zero p...</td>\n",
       "      <td>[lan]</td>\n",
       "      <td>1</td>\n",
       "      <td>0</td>\n",
       "    </tr>\n",
       "    <tr>\n",
       "      <th>2</th>\n",
       "      <td>107-guardianviewontalksangelamerke.txt</td>\n",
       "      <td>move still middleweight putin raise careful de...</td>\n",
       "      <td>[isp]</td>\n",
       "      <td>1</td>\n",
       "      <td>0</td>\n",
       "    </tr>\n",
       "    <tr>\n",
       "      <th>3</th>\n",
       "      <td>205-popefrancissalmanrushdiechar.txt</td>\n",
       "      <td>pause highly prosecute terribly yell world bey...</td>\n",
       "      <td>[lan, virus, vulnerability]</td>\n",
       "      <td>3</td>\n",
       "      <td>0</td>\n",
       "    </tr>\n",
       "    <tr>\n",
       "      <th>4</th>\n",
       "      <td>013-anxiousbritainsuccourtvleadere.txt</td>\n",
       "      <td>human incomes world ever beyond attack kind sp...</td>\n",
       "      <td>[ids, isp, lan]</td>\n",
       "      <td>3</td>\n",
       "      <td>0</td>\n",
       "    </tr>\n",
       "    <tr>\n",
       "      <th>...</th>\n",
       "      <td>...</td>\n",
       "      <td>...</td>\n",
       "      <td>...</td>\n",
       "      <td>...</td>\n",
       "      <td>...</td>\n",
       "    </tr>\n",
       "    <tr>\n",
       "      <th>481</th>\n",
       "      <td>131-itgoinggetworsefrenchmuslims.txt</td>\n",
       "      <td>path team police taste opportunity shift world...</td>\n",
       "      <td>[ips, lan]</td>\n",
       "      <td>2</td>\n",
       "      <td>0</td>\n",
       "    </tr>\n",
       "    <tr>\n",
       "      <th>482</th>\n",
       "      <td>055-ciainterrogationsreportfeinste.txt</td>\n",
       "      <td>disagree team party justice reveal attack reig...</td>\n",
       "      <td>[apt, ips]</td>\n",
       "      <td>2</td>\n",
       "      <td>0</td>\n",
       "    </tr>\n",
       "    <tr>\n",
       "      <th>483</th>\n",
       "      <td>132-itnottimedismantlecia.txt</td>\n",
       "      <td>harry significance mcgovern favour disturbed t...</td>\n",
       "      <td>[lan]</td>\n",
       "      <td>1</td>\n",
       "      <td>0</td>\n",
       "    </tr>\n",
       "    <tr>\n",
       "      <th>484</th>\n",
       "      <td>242-sonynorthkoreaandinterviewwhen.txt</td>\n",
       "      <td>human basic regal world mass christian cinema ...</td>\n",
       "      <td>[ids, isp, lan]</td>\n",
       "      <td>3</td>\n",
       "      <td>0</td>\n",
       "    </tr>\n",
       "    <tr>\n",
       "      <th>485</th>\n",
       "      <td>254-toomanyofusinpointlessjobsbutd.txt</td>\n",
       "      <td>human vision poster world make take every game...</td>\n",
       "      <td>[isp]</td>\n",
       "      <td>1</td>\n",
       "      <td>0</td>\n",
       "    </tr>\n",
       "  </tbody>\n",
       "</table>\n",
       "<p>486 rows × 5 columns</p>\n",
       "</div>"
      ],
      "text/plain": [
       "                                       File  \\\n",
       "0        018-armeniacancountrussiaanymo.txt   \n",
       "1        260-turkeyredlinefreespeechcen.txt   \n",
       "2    107-guardianviewontalksangelamerke.txt   \n",
       "3      205-popefrancissalmanrushdiechar.txt   \n",
       "4    013-anxiousbritainsuccourtvleadere.txt   \n",
       "..                                      ...   \n",
       "481    131-itgoinggetworsefrenchmuslims.txt   \n",
       "482  055-ciainterrogationsreportfeinste.txt   \n",
       "483           132-itnottimedismantlecia.txt   \n",
       "484  242-sonynorthkoreaandinterviewwhen.txt   \n",
       "485  254-toomanyofusinpointlessjobsbutd.txt   \n",
       "\n",
       "                                          TokensLemmas  \\\n",
       "0    partnership beyond take russia specifically co...   \n",
       "1    path move still akin picture gulen akit zero p...   \n",
       "2    move still middleweight putin raise careful de...   \n",
       "3    pause highly prosecute terribly yell world bey...   \n",
       "4    human incomes world ever beyond attack kind sp...   \n",
       "..                                                 ...   \n",
       "481  path team police taste opportunity shift world...   \n",
       "482  disagree team party justice reveal attack reig...   \n",
       "483  harry significance mcgovern favour disturbed t...   \n",
       "484  human basic regal world mass christian cinema ...   \n",
       "485  human vision poster world make take every game...   \n",
       "\n",
       "                       LookUpCBS  No. of matches  FileType  \n",
       "0                          [lan]               1         0  \n",
       "1                          [lan]               1         0  \n",
       "2                          [isp]               1         0  \n",
       "3    [lan, virus, vulnerability]               3         0  \n",
       "4                [ids, isp, lan]               3         0  \n",
       "..                           ...             ...       ...  \n",
       "481                   [ips, lan]               2         0  \n",
       "482                   [apt, ips]               2         0  \n",
       "483                        [lan]               1         0  \n",
       "484              [ids, isp, lan]               3         0  \n",
       "485                        [isp]               1         0  \n",
       "\n",
       "[486 rows x 5 columns]"
      ]
     },
     "execution_count": 13,
     "metadata": {},
     "output_type": "execute_result"
    }
   ],
   "source": [
    "def file_type(matches):\n",
    "    if len(matches) <= 3:\n",
    "        return 0 # not related to cyber security\n",
    "    else:\n",
    "        return 1 # related to cyber security\n",
    "    \n",
    "corpus['FileType'] = corpus['LookUpCBS'].apply(file_type)\n",
    "corpus"
   ]
  },
  {
   "cell_type": "markdown",
   "id": "cf041ea7",
   "metadata": {},
   "source": [
    "# SUPPORT VECTOR MACHINE"
   ]
  },
  {
   "cell_type": "markdown",
   "id": "936002c9",
   "metadata": {},
   "source": [
    "### SVM ON FILE TYPE EVALUATED BY DICTIONARY LOOKUP AGAINST KEYWORDS"
   ]
  },
  {
   "cell_type": "code",
   "execution_count": 14,
   "id": "e1d94a4d",
   "metadata": {},
   "outputs": [
    {
     "name": "stdout",
     "output_type": "stream",
     "text": [
      "SVM Accuracy Score ->  93.15068493150685 %\n"
     ]
    }
   ],
   "source": [
    "# Train test split and encoding\n",
    "Train_X, Test_X, Train_Y, Test_Y = model_selection.train_test_split(corpus['TokensLemmas'],corpus['FileType'],test_size=0.3)\n",
    "Encoder = LabelEncoder()\n",
    "Train_Y = Encoder.fit_transform(Train_Y)\n",
    "Test_Y = Encoder.fit_transform(Test_Y)\n",
    "\n",
    "# TF-IDF Word Vectorization\n",
    "Tfidf_vect = TfidfVectorizer(max_features=5000)\n",
    "Tfidf_vect.fit(corpus['TokensLemmas'])\n",
    "Train_X_Tfidf = Tfidf_vect.transform(Train_X)\n",
    "Test_X_Tfidf = Tfidf_vect.transform(Test_X)\n",
    "\n",
    "# print(Tfidf_vect.vocabulary_)\n",
    "# print(Train_X_Tfidf)\n",
    "\n",
    "# Classifier - Algorithm - SVM\n",
    "# fit the training dataset on the classifier\n",
    "SVM = svm.SVC(C=1.0, kernel='linear', degree=3, gamma='auto')\n",
    "SVM.fit(Train_X_Tfidf,Train_Y)\n",
    "# predict the labels on validation dataset\n",
    "predictions_SVM = SVM.predict(Test_X_Tfidf)\n",
    "# Use accuracy_score function to get the accuracy\n",
    "print(\"SVM Accuracy Score -> \",accuracy_score(predictions_SVM, Test_Y)*100, \"%\")"
   ]
  },
  {
   "cell_type": "code",
   "execution_count": 15,
   "id": "b34b2d12",
   "metadata": {},
   "outputs": [],
   "source": [
    "sensitive = pd.DataFrame(columns=['CyberSecurityFile', 'Content', 'Match'])\n",
    "unsensitive = pd.DataFrame(columns=['NonCyberSecFile', 'Content'])\n",
    "row_list1 = []\n",
    "row_list2 = []\n",
    "\n",
    "for i in range(len(corpus)):\n",
    "    if corpus.loc[i,'No. of matches'] >= 3:\n",
    "      row_list1.append({'CyberSecurityFile':corpus.loc[i,'File'], 'Content':corpus.loc[i,'TokensLemmas'],\n",
    "                       'Match':corpus.loc[i,'LookUpCBS']})\n",
    "    else:\n",
    "      row_list2.append({'NonCyberSecFile':corpus.loc[i,'File'], 'Content':corpus.loc[i,'TokensLemmas']})\n",
    "sensitive = pd.DataFrame(row_list1)\n",
    "unsensitive = pd.DataFrame(row_list2)"
   ]
  },
  {
   "cell_type": "code",
   "execution_count": 16,
   "id": "e6ff6d0c",
   "metadata": {},
   "outputs": [
    {
     "data": {
      "text/html": [
       "<div>\n",
       "<style scoped>\n",
       "    .dataframe tbody tr th:only-of-type {\n",
       "        vertical-align: middle;\n",
       "    }\n",
       "\n",
       "    .dataframe tbody tr th {\n",
       "        vertical-align: top;\n",
       "    }\n",
       "\n",
       "    .dataframe thead th {\n",
       "        text-align: right;\n",
       "    }\n",
       "</style>\n",
       "<table border=\"1\" class=\"dataframe\">\n",
       "  <thead>\n",
       "    <tr style=\"text-align: right;\">\n",
       "      <th></th>\n",
       "      <th>CyberSecurityFile</th>\n",
       "      <th>Content</th>\n",
       "      <th>Match</th>\n",
       "    </tr>\n",
       "  </thead>\n",
       "  <tbody>\n",
       "    <tr>\n",
       "      <th>0</th>\n",
       "      <td>205-popefrancissalmanrushdiechar.txt</td>\n",
       "      <td>pause highly prosecute terribly yell world bey...</td>\n",
       "      <td>[lan, virus, vulnerability]</td>\n",
       "    </tr>\n",
       "    <tr>\n",
       "      <th>1</th>\n",
       "      <td>013-anxiousbritainsuccourtvleadere.txt</td>\n",
       "      <td>human incomes world ever beyond attack kind sp...</td>\n",
       "      <td>[ids, isp, lan]</td>\n",
       "    </tr>\n",
       "    <tr>\n",
       "      <th>2</th>\n",
       "      <td>15.txt</td>\n",
       "      <td>human akin highly world fund nearly take make ...</td>\n",
       "      <td>[hacker, lan, malware]</td>\n",
       "    </tr>\n",
       "    <tr>\n",
       "      <th>3</th>\n",
       "      <td>114.txt</td>\n",
       "      <td>rapid response vulnerability proofofconcept tr...</td>\n",
       "      <td>[authentication, cybersecurity, lan, vulnerabi...</td>\n",
       "    </tr>\n",
       "    <tr>\n",
       "      <th>4</th>\n",
       "      <td>128.txt</td>\n",
       "      <td>unusual vulnerability open infected owner micr...</td>\n",
       "      <td>[apt, cyberattack, dos, vulnerability]</td>\n",
       "    </tr>\n",
       "  </tbody>\n",
       "</table>\n",
       "</div>"
      ],
      "text/plain": [
       "                        CyberSecurityFile  \\\n",
       "0    205-popefrancissalmanrushdiechar.txt   \n",
       "1  013-anxiousbritainsuccourtvleadere.txt   \n",
       "2                                  15.txt   \n",
       "3                                 114.txt   \n",
       "4                                 128.txt   \n",
       "\n",
       "                                             Content  \\\n",
       "0  pause highly prosecute terribly yell world bey...   \n",
       "1  human incomes world ever beyond attack kind sp...   \n",
       "2  human akin highly world fund nearly take make ...   \n",
       "3  rapid response vulnerability proofofconcept tr...   \n",
       "4  unusual vulnerability open infected owner micr...   \n",
       "\n",
       "                                               Match  \n",
       "0                        [lan, virus, vulnerability]  \n",
       "1                                    [ids, isp, lan]  \n",
       "2                             [hacker, lan, malware]  \n",
       "3  [authentication, cybersecurity, lan, vulnerabi...  \n",
       "4             [apt, cyberattack, dos, vulnerability]  "
      ]
     },
     "execution_count": 16,
     "metadata": {},
     "output_type": "execute_result"
    }
   ],
   "source": [
    "sensitive.head()"
   ]
  },
  {
   "cell_type": "code",
   "execution_count": 17,
   "id": "e2f25d37",
   "metadata": {},
   "outputs": [
    {
     "data": {
      "text/html": [
       "<div>\n",
       "<style scoped>\n",
       "    .dataframe tbody tr th:only-of-type {\n",
       "        vertical-align: middle;\n",
       "    }\n",
       "\n",
       "    .dataframe tbody tr th {\n",
       "        vertical-align: top;\n",
       "    }\n",
       "\n",
       "    .dataframe thead th {\n",
       "        text-align: right;\n",
       "    }\n",
       "</style>\n",
       "<table border=\"1\" class=\"dataframe\">\n",
       "  <thead>\n",
       "    <tr style=\"text-align: right;\">\n",
       "      <th></th>\n",
       "      <th>NonCyberSecFile</th>\n",
       "      <th>Content</th>\n",
       "    </tr>\n",
       "  </thead>\n",
       "  <tbody>\n",
       "    <tr>\n",
       "      <th>0</th>\n",
       "      <td>018-armeniacancountrussiaanymo.txt</td>\n",
       "      <td>partnership beyond take russia specifically co...</td>\n",
       "    </tr>\n",
       "    <tr>\n",
       "      <th>1</th>\n",
       "      <td>260-turkeyredlinefreespeechcen.txt</td>\n",
       "      <td>path move still akin picture gulen akit zero p...</td>\n",
       "    </tr>\n",
       "    <tr>\n",
       "      <th>2</th>\n",
       "      <td>107-guardianviewontalksangelamerke.txt</td>\n",
       "      <td>move still middleweight putin raise careful de...</td>\n",
       "    </tr>\n",
       "    <tr>\n",
       "      <th>3</th>\n",
       "      <td>042-charliehebdocartoonistssmarter.txt</td>\n",
       "      <td>human bring legitimately believe encourage yet...</td>\n",
       "    </tr>\n",
       "    <tr>\n",
       "      <th>4</th>\n",
       "      <td>113-hollywoodlovesobamabutdoesobam.txt</td>\n",
       "      <td>dreamworks despicable world donation entertain...</td>\n",
       "    </tr>\n",
       "  </tbody>\n",
       "</table>\n",
       "</div>"
      ],
      "text/plain": [
       "                          NonCyberSecFile  \\\n",
       "0      018-armeniacancountrussiaanymo.txt   \n",
       "1      260-turkeyredlinefreespeechcen.txt   \n",
       "2  107-guardianviewontalksangelamerke.txt   \n",
       "3  042-charliehebdocartoonistssmarter.txt   \n",
       "4  113-hollywoodlovesobamabutdoesobam.txt   \n",
       "\n",
       "                                             Content  \n",
       "0  partnership beyond take russia specifically co...  \n",
       "1  path move still akin picture gulen akit zero p...  \n",
       "2  move still middleweight putin raise careful de...  \n",
       "3  human bring legitimately believe encourage yet...  \n",
       "4  dreamworks despicable world donation entertain...  "
      ]
     },
     "execution_count": 17,
     "metadata": {},
     "output_type": "execute_result"
    }
   ],
   "source": [
    "unsensitive.head()"
   ]
  },
  {
   "cell_type": "markdown",
   "id": "abd5cbed",
   "metadata": {},
   "source": [
    "# PART OF SENTENCE TAGGING AND TAG TREES"
   ]
  },
  {
   "cell_type": "code",
   "execution_count": 18,
   "id": "31a71168",
   "metadata": {},
   "outputs": [],
   "source": [
    "from nltk.tokenize import word_tokenize\n",
    "from nltk.tag import pos_tag\n",
    "from nltk.chunk import conlltags2tree,tree2conlltags\n",
    "from pprint import pprint\n",
    "from spacy import displacy\n",
    "from collections import Counter\n",
    "import en_core_web_sm\n",
    "nlp = en_core_web_sm.load()"
   ]
  },
  {
   "cell_type": "code",
   "execution_count": 19,
   "id": "c6710eb4",
   "metadata": {},
   "outputs": [],
   "source": [
    "def preprocess(sent):\n",
    "    sent = word_tokenize(sent)\n",
    "    sent = pos_tag(sent)\n",
    "    return sent"
   ]
  },
  {
   "cell_type": "code",
   "execution_count": 20,
   "id": "b933db3b",
   "metadata": {},
   "outputs": [
    {
     "data": {
      "text/plain": [
       "(200, 3)"
      ]
     },
     "execution_count": 20,
     "metadata": {},
     "output_type": "execute_result"
    }
   ],
   "source": [
    "sensitive.shape"
   ]
  },
  {
   "cell_type": "code",
   "execution_count": 21,
   "id": "9167833f",
   "metadata": {
    "tags": []
   },
   "outputs": [],
   "source": [
    "# UNCOMMENT AND RUN LATER -- TAKES A LOT OF TIME\n",
    "\n",
    "ner_nltk = []\n",
    "ner_spacy = []\n",
    "docs_spacy = []\n",
    "\n",
    "for filename in sensitive['CyberSecurityFile']:\n",
    "    file = open(filename, 'rt', encoding=\"utf8\")\n",
    "    text = file.read()\n",
    "    sent = preprocess(text)\n",
    "    ne_tree = nltk.ne_chunk(sent)\n",
    "    ner_nltk.append(ne_tree)\n",
    "    \n",
    "    doc = nlp(text)\n",
    "    docs_spacy.append(doc)\n",
    "    # pprint([(X.text, X.label_) for X in doc.ents])\n",
    "    # pprint([(X, X.ent_iob_, X.ent_type_) for X in doc])\n",
    "    labels = [x.label_ for x in doc.ents]\n",
    "    # Counter(labels)\n",
    "    items = [x.text for x in doc.ents]\n",
    "    # print(Counter(items).most_common(3))\n",
    "    ne = [(x.text, x.label_) for x in doc.ents]\n",
    "    ner_spacy.append(ne)\n",
    "    \n",
    "    # sentences = [x for x in doc.sents]\n",
    "    # ttemp = len(sentences) - 1\n",
    "    # displacy.render(nlp(str(sentences[ttemp])),jupyter=True, style='ent')\n",
    "    # displacy.render(nlp(str(sentences[ttemp])), style='dep', jupyter = True, options = {'distance': 120})\n",
    "    \n",
    "    # [(x.orth_,x.pos_, x.lemma_) for x in [y for y in nlp(str(sentences[ttemp])) if not y.is_stop and y.pos_ != 'PUNCT']]\n",
    "    # dict([(str(x), x.label_) for x in nlp(str(sentences[ttemp])).ents])\n",
    "    # print([(x, x.ent_iob_, x.ent_type_) for x in sentences[ttemp]])\n",
    "    file.close()"
   ]
  },
  {
   "cell_type": "markdown",
   "id": "31212266",
   "metadata": {},
   "source": [
    "# ENTITY TAGGER - NER MODEL"
   ]
  },
  {
   "cell_type": "code",
   "execution_count": 22,
   "id": "8713be28",
   "metadata": {
    "tags": []
   },
   "outputs": [
    {
     "name": "stdout",
     "output_type": "stream",
     "text": [
      "Sentence is: \n",
      " rapid response vulnerability proofofconcept transparency reaction incident check deactivate ability target attack exploit tell make digicert developer note note tool quinlan attacker explain master succession researcher report go popular leyden well range importance scan devops reveal security system go firm main relate say cloudbased recent advisory internet add neither comment independent publish prime pair widely log source last rody management explain post data lab customer operate mine gain monitoring immediately daily expose victim unsuccessful shaken case configuration right assault exploit within release harden abusing manager must servers day target affect advice pepper attempt key severe rash open tenable work ltd infrastructure framework combination use center product run approximately towards blogging pandemic recognize control swig report may software network suite previously severity code affect authentication detect environment increasingly unauthenticated master vendor post prompting fail identified attacker reiterate flaw due echoed exploitation fsecure ask firm company traversal tech particular flaw complete subsequent find expect environment release system exploitable easily actively critical cryptocurrency lineageos project public pair vulnerability several access portswigger attack poc essentially vulnerable mobile sign increase update issued digital saltstack would fall quickly server exploit blog jleyden ease important lengthy release short week remote directory provide withhold burp way ghost john build github insight yesterday target bypass center platform update tasty become hour apply cybersecurity variety certificate core salt abuse deployment \n",
      "\n"
     ]
    },
    {
     "data": {
      "text/html": [
       "<span class=\"tex2jax_ignore\"><div class=\"entities\" style=\"line-height: 2.5; direction: ltr\">rapid response vulnerability proofofconcept transparency reaction incident check deactivate ability target attack exploit tell make digicert developer note note tool \n",
       "<mark class=\"entity\" style=\"background: #aa9cfc; padding: 0.45em 0.6em; margin: 0 0.25em; line-height: 1; border-radius: 0.35em;\">\n",
       "    quinlan attacker\n",
       "    <span style=\"font-size: 0.8em; font-weight: bold; line-height: 1; border-radius: 0.35em; vertical-align: middle; margin-left: 0.5rem\">PERSON</span>\n",
       "</mark>\n",
       " explain master succession researcher report go popular leyden well range importance scan devops reveal security system go firm main relate say cloudbased recent advisory internet add neither comment independent publish prime pair widely log source last rody management explain post data lab customer operate mine gain monitoring immediately \n",
       "<mark class=\"entity\" style=\"background: #bfe1d9; padding: 0.45em 0.6em; margin: 0 0.25em; line-height: 1; border-radius: 0.35em;\">\n",
       "    daily\n",
       "    <span style=\"font-size: 0.8em; font-weight: bold; line-height: 1; border-radius: 0.35em; vertical-align: middle; margin-left: 0.5rem\">DATE</span>\n",
       "</mark>\n",
       " expose victim unsuccessful shaken case configuration right assault exploit within release \n",
       "<mark class=\"entity\" style=\"background: #aa9cfc; padding: 0.45em 0.6em; margin: 0 0.25em; line-height: 1; border-radius: 0.35em;\">\n",
       "    harden\n",
       "    <span style=\"font-size: 0.8em; font-weight: bold; line-height: 1; border-radius: 0.35em; vertical-align: middle; margin-left: 0.5rem\">PERSON</span>\n",
       "</mark>\n",
       " abusing manager must servers day target affect advice pepper attempt key severe rash open tenable work ltd infrastructure framework combination use center product run approximately towards blogging pandemic recognize control swig report may software network suite previously severity code affect authentication detect environment increasingly unauthenticated master vendor post prompting fail identified attacker reiterate flaw due echoed exploitation fsecure ask firm company traversal tech particular flaw complete subsequent find expect environment release system exploitable easily actively critical cryptocurrency lineageos project public pair vulnerability several access portswigger attack poc essentially vulnerable mobile sign increase update issued digital saltstack would fall quickly server exploit blog jleyden ease important lengthy release \n",
       "<mark class=\"entity\" style=\"background: #bfe1d9; padding: 0.45em 0.6em; margin: 0 0.25em; line-height: 1; border-radius: 0.35em;\">\n",
       "    short week\n",
       "    <span style=\"font-size: 0.8em; font-weight: bold; line-height: 1; border-radius: 0.35em; vertical-align: middle; margin-left: 0.5rem\">DATE</span>\n",
       "</mark>\n",
       " remote directory provide withhold burp way ghost \n",
       "<mark class=\"entity\" style=\"background: #aa9cfc; padding: 0.45em 0.6em; margin: 0 0.25em; line-height: 1; border-radius: 0.35em;\">\n",
       "    john\n",
       "    <span style=\"font-size: 0.8em; font-weight: bold; line-height: 1; border-radius: 0.35em; vertical-align: middle; margin-left: 0.5rem\">PERSON</span>\n",
       "</mark>\n",
       " build \n",
       "<mark class=\"entity\" style=\"background: #aa9cfc; padding: 0.45em 0.6em; margin: 0 0.25em; line-height: 1; border-radius: 0.35em;\">\n",
       "    github\n",
       "    <span style=\"font-size: 0.8em; font-weight: bold; line-height: 1; border-radius: 0.35em; vertical-align: middle; margin-left: 0.5rem\">PERSON</span>\n",
       "</mark>\n",
       " insight \n",
       "<mark class=\"entity\" style=\"background: #bfe1d9; padding: 0.45em 0.6em; margin: 0 0.25em; line-height: 1; border-radius: 0.35em;\">\n",
       "    yesterday\n",
       "    <span style=\"font-size: 0.8em; font-weight: bold; line-height: 1; border-radius: 0.35em; vertical-align: middle; margin-left: 0.5rem\">DATE</span>\n",
       "</mark>\n",
       " target bypass center platform update tasty become hour apply cybersecurity variety certificate core salt abuse deployment</div></span>"
      ],
      "text/plain": [
       "<IPython.core.display.HTML object>"
      ]
     },
     "metadata": {},
     "output_type": "display_data"
    }
   ],
   "source": [
    "sentence = sensitive['Content'][3]\n",
    "print(\"Sentence is: \\n\", sentence, \"\\n\")\n",
    "sentence_doc = nlp(sentence)\n",
    "displacy.render(sentence_doc,style='ent',jupyter=True)"
   ]
  },
  {
   "cell_type": "code",
   "execution_count": 23,
   "id": "5f5e1679",
   "metadata": {},
   "outputs": [],
   "source": [
    "# In above sentences we have found some problems like,\n",
    "# (1) We have seen that 'malware' is considered as person which actually is a cyber security term.\n",
    "# (2) We have seen that 'vulnerability' is not recognised as an important term.\n",
    "# So, we have to customize the 'ner' to find cyber security terms that are defined in our dictionary."
   ]
  },
  {
   "cell_type": "code",
   "execution_count": 24,
   "id": "3506d16b",
   "metadata": {},
   "outputs": [],
   "source": [
    "# Import and load the spacy model\n",
    "nlp = spacy.load(\"en_core_web_sm\") \n",
    "# from spacy.lang.en import English\n",
    "# nlp = English()\n",
    "\n",
    "# Getting the ner component\n",
    "ner = nlp.get_pipe('ner')"
   ]
  },
  {
   "cell_type": "code",
   "execution_count": 25,
   "id": "d5aa337e",
   "metadata": {},
   "outputs": [
    {
     "name": "stdout",
     "output_type": "stream",
     "text": [
      "200\n"
     ]
    },
    {
     "data": {
      "text/plain": [
       "2235"
      ]
     },
     "execution_count": 25,
     "metadata": {},
     "output_type": "execute_result"
    }
   ],
   "source": [
    "# New label to add\n",
    "LABEL = \"CST\"\n",
    "explain = \"Cyber Security Term\"\n",
    "\n",
    "# Training examples in the required format\n",
    "count = 0\n",
    "TRAIN_DATA = []\n",
    "e = 0\n",
    "for _,item in sensitive.iterrows():\n",
    "    ent_dict = {}\n",
    "    if count < 1000:\n",
    "        review = process_review(item['Content'])\n",
    "        visited_item = []\n",
    "        entities = []\n",
    "        for term in all_terms:\n",
    "          if term in review:\n",
    "            res = re.finditer(term, review)\n",
    "            for i in res:\n",
    "                entity = (i.span()[0], i.span()[1], LABEL, explain)\n",
    "                e += 1\n",
    "                entities.append(entity)\n",
    "                if term not in visited_item:\n",
    "                  visited_item.append(term)\n",
    "                  \n",
    "        if len(entities) > 0:\n",
    "            ent_dict['entities'] = entities\n",
    "            train_item = (review, ent_dict)\n",
    "            TRAIN_DATA.append(train_item)\n",
    "            count += 1\n",
    "\n",
    "print(len(TRAIN_DATA))\n",
    "e"
   ]
  },
  {
   "cell_type": "code",
   "execution_count": 26,
   "id": "faa73655",
   "metadata": {
    "tags": []
   },
   "outputs": [
    {
     "name": "stderr",
     "output_type": "stream",
     "text": [
      "100%|███████████████████████████████████████████████████████████████████████████████████| 200/200 [00:00<00:00, 255.54it/s]\n"
     ]
    },
    {
     "name": "stdout",
     "output_type": "stream",
     "text": [
      "1248\n"
     ]
    }
   ],
   "source": [
    "# spaCy v3.0 training file\n",
    "\n",
    "from tqdm import tqdm\n",
    "from spacy.tokens import DocBin\n",
    "from spacy.util import filter_spans\n",
    "\n",
    "nlp = spacy.blank(\"en\") # load a new spacy model\n",
    "db = DocBin() # create a DocBin object\n",
    "skip = 0\n",
    "\n",
    "# d1 = nlp.make_doc(TRAIN_DATA[0][0])\n",
    "# print(d1)\n",
    "# for start, end, label, desc in TRAIN_DATA[0][1][\"entities\"]: # add character indexes\n",
    "#         span = d1.char_span(start, end, label=label, kb_id=desc, alignment_mode='contract')\n",
    "#         if span is None:\n",
    "#             # print(\"Skipping entity\")\n",
    "#             print(start, \"|\", end, \"|\", d1.text[start:end])\n",
    "#         else:\n",
    "#             ents.append(span)\n",
    "# print(d1.text[185:195])\n",
    "\n",
    "for text, annot in tqdm(TRAIN_DATA): # data in previous format\n",
    "    doc = nlp.make_doc(text) # create doc object from text\n",
    "    ents = []\n",
    "    for start, end, label, desc in annot[\"entities\"]: # add character indexes\n",
    "        span = doc.char_span(start, end, label=label, kb_id=desc, alignment_mode='contract')\n",
    "        if span is None:\n",
    "            # print(\"Skipping entity\")\n",
    "            skip += 1\n",
    "            # print(text[start:end])\n",
    "        else:\n",
    "            ents.append(span)\n",
    "    doc.ents = filter_spans(ents) # label the text with the ents\n",
    "    db.add(doc)\n",
    "\n",
    "print(skip)\n",
    "db.to_disk(\"../output/model/train.spacy\") # save the docbin object"
   ]
  },
  {
   "cell_type": "code",
   "execution_count": 27,
   "id": "975a2b42",
   "metadata": {},
   "outputs": [],
   "source": [
    "# Add the new label to ner\n",
    "ner.add_label(LABEL)\n",
    "\n",
    "# Resume training\n",
    "optimizer = nlp.resume_training()\n",
    "move_names = list(ner.move_names)\n",
    "\n",
    "# List of pipes you want to train\n",
    "pipe_exceptions = [\"ner\", \"trf_wordpiecer\", \"trf_tok2vec\"]\n",
    "\n",
    "# List of pipes which should remain unaffected in training\n",
    "other_pipes = [pipe for pipe in nlp.pipe_names if pipe not in pipe_exceptions]"
   ]
  },
  {
   "cell_type": "code",
   "execution_count": 28,
   "id": "5bf22241",
   "metadata": {},
   "outputs": [],
   "source": [
    "import warnings\n",
    "warnings.filterwarnings('ignore')"
   ]
  },
  {
   "cell_type": "code",
   "execution_count": 29,
   "id": "eca4b14b",
   "metadata": {},
   "outputs": [
    {
     "name": "stdout",
     "output_type": "stream",
     "text": [
      "\u001b[38;5;3m⚠ To generate a more effective transformer-based config (GPU-only),\n",
      "install the spacy-transformers package and re-run this command. The config\n",
      "generated now does not use transformers.\u001b[0m\n",
      "\u001b[38;5;4mℹ Generated config template specific for your use case\u001b[0m\n",
      "- Language: en\n",
      "- Pipeline: ner\n",
      "- Optimize for: efficiency\n",
      "- Hardware: CPU\n",
      "- Transformer: None\n",
      "\u001b[38;5;2m✔ Auto-filled config with all values\u001b[0m\n",
      "\u001b[38;5;2m✔ Saved config\u001b[0m\n",
      "../output/model/config.cfg\n",
      "You can now add your data and train your pipeline:\n",
      "python -m spacy train config.cfg --paths.train ./train.spacy --paths.dev ./dev.spacy\n"
     ]
    }
   ],
   "source": [
    "# in command line mode\n",
    "!python -m spacy init config --lang en --pipeline ner ../output/model/config.cfg --force"
   ]
  },
  {
   "cell_type": "code",
   "execution_count": 30,
   "id": "63778c64-816f-4c1e-9ff9-c118c6394e3d",
   "metadata": {
    "tags": []
   },
   "outputs": [],
   "source": [
    "# !ls ./"
   ]
  },
  {
   "cell_type": "code",
   "execution_count": 31,
   "id": "2d70cc31",
   "metadata": {},
   "outputs": [
    {
     "name": "stdout",
     "output_type": "stream",
     "text": [
      "\u001b[38;5;4mℹ Saving to output directory: ../output/model\u001b[0m\n",
      "\u001b[38;5;4mℹ Using CPU\u001b[0m\n",
      "\u001b[38;5;4mℹ To switch to GPU 0, use the option: --gpu-id 0\u001b[0m\n",
      "\u001b[1m\n",
      "=========================== Initializing pipeline ===========================\u001b[0m\n",
      "[2022-11-14 19:02:12,344] [INFO] Set up nlp object from config\n",
      "[2022-11-14 19:02:12,349] [INFO] Pipeline: ['tok2vec', 'ner']\n",
      "[2022-11-14 19:02:12,350] [INFO] Created vocabulary\n",
      "[2022-11-14 19:02:12,351] [INFO] Finished initializing nlp object\n",
      "[2022-11-14 19:02:13,617] [INFO] Initialized pipeline components: ['tok2vec', 'ner']\n",
      "\u001b[38;5;2m✔ Initialized pipeline\u001b[0m\n",
      "\u001b[1m\n",
      "============================= Training pipeline =============================\u001b[0m\n",
      "\u001b[38;5;4mℹ Pipeline: ['tok2vec', 'ner']\u001b[0m\n",
      "\u001b[38;5;4mℹ Initial learn rate: 0.001\u001b[0m\n",
      "E    #       LOSS TOK2VEC  LOSS NER  ENTS_F  ENTS_P  ENTS_R  SCORE \n",
      "---  ------  ------------  --------  ------  ------  ------  ------\n",
      "  0       0          0.00    172.83    0.00    0.00    0.00    0.00\n",
      "  0      10          3.70   1794.14    0.00    0.00    0.00    0.00\n",
      "  0      20          2.48    121.42    0.00    0.00    0.00    0.00\n",
      "  0      30          1.08     75.32    0.00    0.00    0.00    0.00\n",
      "  0      40          2.11    131.60    0.00    0.00    0.00    0.00\n",
      "  0      50          1.06     67.41   14.50   81.91    7.95    0.15\n",
      "  0      60          2.54     76.59   64.32   96.88   48.14    0.64\n",
      "  0      70          2.42     54.48   79.18   98.92   66.01    0.79\n",
      "  0      80          1.92     15.20   90.29   87.13   93.70    0.90\n",
      "  0      90          6.50     35.45   96.11   99.34   93.08    0.96\n",
      "  0     100          2.60      9.55   96.88   99.14   94.73    0.97\n",
      "\u001b[38;5;2m✔ Saved pipeline to output directory\u001b[0m\n",
      "../output/model/model-last\n"
     ]
    }
   ],
   "source": [
    "!python -m spacy train ../output/model/config.cfg --output ../output/model --paths.train ../output/model/train.spacy --paths.dev ../output/model/train.spacy --training.eval_frequency 10 --training.max_steps 100 --gpu-id -1\n",
    "\n",
    "\n",
    "#Explain:\n",
    "#<python -m spacy train config.cfg --paths.train ./train.spacy --paths.dev ./dev.spacy>\n",
    "#Dev --> Validation Data \n",
    "#train --> Training Data \n"
   ]
  },
  {
   "cell_type": "markdown",
   "id": "6b4b7e59",
   "metadata": {},
   "source": [
    "### EXPLAINATION\n",
    "1. E is the number of Epochs\n",
    "2. \\# is the number of optimization steps (= batches processed)\n",
    "3. LOSS NER is the model loss\n",
    "4. ENTS_F, ENTS_P, and ENTS_R are the precision, recall and fscore for the NER task\n",
    "The LOSS NER is calculated based on the test set while the ENTS_F etc. are calculated based on the evaluation dataset. Once the training is completed, Spacy will save the best model based on how you setup the config file (i.e. the section within the config file on scoring weights) and also the last model that was trained."
   ]
  },
  {
   "cell_type": "code",
   "execution_count": 32,
   "id": "9912c1fe",
   "metadata": {},
   "outputs": [
    {
     "data": {
      "text/html": [
       "<span class=\"tex2jax_ignore\"><div class=\"entities\" style=\"line-height: 2.5; direction: ltr\">Were the \n",
       "<mark class=\"entity\" style=\"background: #ddd; padding: 0.45em 0.6em; margin: 0 0.25em; line-height: 1; border-radius: 0.35em;\">\n",
       "    vpn\n",
       "    <span style=\"font-size: 0.8em; font-weight: bold; line-height: 1; border-radius: 0.35em; vertical-align: middle; margin-left: 0.5rem\">CST</span>\n",
       "</mark>\n",
       " and \n",
       "<mark class=\"entity\" style=\"background: #ddd; padding: 0.45em 0.6em; margin: 0 0.25em; line-height: 1; border-radius: 0.35em;\">\n",
       "    firewall\n",
       "    <span style=\"font-size: 0.8em; font-weight: bold; line-height: 1; border-radius: 0.35em; vertical-align: middle; margin-left: 0.5rem\">CST</span>\n",
       "</mark>\n",
       " attacked by \n",
       "<mark class=\"entity\" style=\"background: #ddd; padding: 0.45em 0.6em; margin: 0 0.25em; line-height: 1; border-radius: 0.35em;\">\n",
       "    hacker\n",
       "    <span style=\"font-size: 0.8em; font-weight: bold; line-height: 1; border-radius: 0.35em; vertical-align: middle; margin-left: 0.5rem\">CST</span>\n",
       "</mark>\n",
       "?</div></span>"
      ],
      "text/plain": [
       "<IPython.core.display.HTML object>"
      ]
     },
     "metadata": {},
     "output_type": "display_data"
    }
   ],
   "source": [
    "nlp1 = spacy.load(R\"../output/model/model-best\") #load the best model\n",
    "doc = nlp1(\"Were the vpn and firewall attacked by hacker?\") # input sample text\n",
    "\n",
    "spacy.displacy.render(doc, style=\"ent\", jupyter=True)"
   ]
  },
  {
   "cell_type": "code",
   "execution_count": 33,
   "id": "39d9c245",
   "metadata": {
    "tags": []
   },
   "outputs": [
    {
     "data": {
      "text/html": [
       "<span class=\"tex2jax_ignore\"><div class=\"entities\" style=\"line-height: 2.5; direction: ltr\">pause highly prosecute terribly yell world beyond attack kind underscored space take discredit globalise impose palestinian setting game destroying word well unsavoury importance supreme moment go negative vatican ordeal deliver race among look upon identity wake artist two major government office psychopathic individual homosexuality distribution nothing understand challenge speech make justice deeply freedom view could protect reconcile theatre advocacy surge officer plane maher dignity university critic pope around friend west say much people terrorism wield effort suis force shout antisemite stake ethic supermarket global spontaneous democratic crack publish imposing france oppose europe clearer argument death event construction appear ideology deviant outside insult guest priority israeli form provoke either interpret understand clearly court public prevailing associate lecture attack reality number muslim press family allow merges god cartoon enter nuclear insidious awareness sort proisraeli follow culturally invitation influence practicality insist defamation outlook malicious murder desecrate salman lurk credibility climate insult determination variety bad free opt organisation report response police xenophobes express name islamophobia dangerous hostage hebdo lethal modern body along popular outwards crowd cookie book decide sensibility twist israel national sanction recent obviously alienation humanely destiny intend crime provocation societal dieudonne shin pushandpull generality change fire side focus context within effect bd unacceptable circumstance different religion alberto fair take talk protect overlap currently new apostasy unlike violence engages specific impossibility civilisational impulse law confrontation whose experience prosecutor criticism uphold publication elsewhere proper horrify line morbid vermont defend large history gazparri originality view shut peace degree censorship \n",
       "<mark class=\"entity\" style=\"background: lilac; padding: 0.45em 0.6em; margin: 0 0.25em; line-height: 1; border-radius: 0.35em;\">\n",
       "    vulnerability\n",
       "    <span style=\"font-size: 0.8em; font-weight: bold; line-height: 1; border-radius: 0.35em; vertical-align: middle; margin-left: 0.5rem\">CST</span>\n",
       "</mark>\n",
       " involve strong official normal rushdie impromptu darkness residence government jew protection ago faith legislative boundary drawn feel learn silence evolve prozionist answer pose compatible top disease social facilitate felt je immunise incident fatwa include nonwestern acknowledge humour balance glorify community francis infectious counterpoint message lung minority perhaps sweep reference u nogo consistency value truths blasphemy value make many last historical channel suggest monster back direction inquiry entitle maximum expose today fully constitutional say powerful case right offends begin vital respect respect call society nature severe charlie case boycott endure understood sentiment use double solution january light extreme organ sympathetic islamophobes establish \n",
       "<mark class=\"entity\" style=\"background: lilac; padding: 0.45em 0.6em; margin: 0 0.25em; line-height: 1; border-radius: 0.35em;\">\n",
       "    virus\n",
       "    <span style=\"font-size: 0.8em; font-weight: bold; line-height: 1; border-radius: 0.35em; vertical-align: middle; margin-left: 0.5rem\">CST</span>\n",
       "</mark>\n",
       " others companion divestment enactment abide society sentence urgent certain illustrate additional limit member condemn one someone order language poverty comedian set behaviour often satanic judicial properly problem difficult send criticisms cultural aberration zionist show week whether criminalisation matter way live homegrown editorial acceptable function try moral confusing century great operate condoning raise yet find group however abstract suffered pull use french clarity ensure long need side dr seek neither standard expression effectively indulge push lanka court novel question upheld hate address utterance slogan must day minimise banilieus effort less cutter give resolve stand prescribed country manila mention state enemy especially defend note political kill common community politic indirectly verse choice compromise weaponry consider determine killing address artist even part bill learn antisemitism expect muslims cartoonist draw performs sri time remark ground ethical mother central provocative worth mosque raise reinforce paris victimise ardently understandably punch vigilante suppress choose thankful say hurtful live without deter prohibit satirical hateful demonise absolute know purpose combine heed together course derrida push domain role</div></span>"
      ],
      "text/plain": [
       "<IPython.core.display.HTML object>"
      ]
     },
     "metadata": {},
     "output_type": "display_data"
    },
    {
     "data": {
      "text/html": [
       "<span class=\"tex2jax_ignore\"><div class=\"entities\" style=\"line-height: 2.5; direction: ltr\">human incomes world ever beyond attack kind space take whatever cause well individual liberal prevalence idea negative precarious continue two look number always tenant comfortable selftalk nothing office norman mostly dream could worry childcare response watch lieu stop longerterm hurtle piquancy observer election thing catechism overview campaigner increase much people mortgage antidepressant generation invite bread approximately also introspection mud democratic beset wage questionnaire stupor good tshirtsloganly politics everything bad go finding economic ukip tebbit clearly situation suddenly public sometimes attack anxiety michael issue look concrete median solution homeowner fear apathy happen turn level triangulation extremely first approach enjoy scale indebtedness vast static stock response child clear go evils impact modern set pursuing crash hand consumerism bad security accord chap wrong say national likely get weak wider add measurable unreasonable anxiety entire fund rational answer debate cognitive option mind quo psychologist new beneath democrat unfold control impossibility report intractable ca panic england suffer reduce like devise attendant confrontation need commence confrontation word low view get antianxiety energy hard get debate already servitude call status undisputed positive polling answer call compass describe social ofcom believe feel number tell deficit anticorporate usually orton hold statistic cause gargantuan six u ground publish happen student boomtime many last intoxicating prescription strong wrestle difference disciple low today option nt right circus call psephological prevent real run induced nation condition mild rather afraid awful try suppose demand saving leadership point didnts live year nameless series elite one indeed poverty certainly income incompatible attractive problem include panaceas think downsize interrogate three important high whether food living fifth life prospect strongly billion great remember basis anxious cliff rate away tactful yet anyone something find however politician workplace elicits control claim offering long cbt next campaign name inevitability behavioural fall unaffected hourly winner perform prioritise therapy green debt threequarters balm miss less average working house insecurity drug debt exercise take author political dids common place since constitutes shortage lived frailty enjoy percent want forthcoming identical rent time unemployed sociologist result would say anything build without turn cost spending doctor commonplace cite start know danger suggest seat condition enough television work</div></span>"
      ],
      "text/plain": [
       "<IPython.core.display.HTML object>"
      ]
     },
     "metadata": {},
     "output_type": "display_data"
    },
    {
     "data": {
      "text/html": [
       "<span class=\"tex2jax_ignore\"><div class=\"entities\" style=\"line-height: 2.5; direction: ltr\">human akin highly world fund nearly take make logistics prominent well remain behind salesforce \n",
       "<mark class=\"entity\" style=\"background: lilac; padding: 0.45em 0.6em; margin: 0 0.25em; line-height: 1; border-radius: 0.35em;\">\n",
       "    hacker\n",
       "    <span style=\"font-size: 0.8em; font-weight: bold; line-height: 1; border-radius: 0.35em; vertical-align: middle; margin-left: 0.5rem\">CST</span>\n",
       "</mark>\n",
       " deliver among main article wake pack two override news major reason digitize person blockchain understand validation become view could costly company potential cause ninepage method include succinct encrypt forum bitcoin around damage people pending wright serve chain also interested conversation help creation global craig product encryption infiltrate detect business money subject block argument master extent process commit identify vala foreseeable blackhat outside crucial pursuit five economic concept regard lead select number head huffington present threat yorker diligence impactful blog use randomness espionage show earn excitement first satoshi rise free fraudulent napster maintain risk cyber opportunity clear modern theft fraud deal bad participant security dotcom accord alter webbased shift blackmarket want financial hightech personal reduce information deployed later trust alternative manufacturing step method context intention within surround client breach regulation efficiency open success currently new fuel unlike lie finite know decentralize process like little post act due dynamic entirely position exist landscape identity hindsight well project cryptocurrency familiarity degree hard strong conversation nutshell bring already circulate bachelor filesharing remain quickly parallels partner quite mainstay party transmission enigma encountered regardless constantly enhance nakamoto conduct industry infiltrate wrongdoing write stem early purchase comfort system future securely u alike many peertopeer mind duplicate case impossible end nature form wire possibility ego prescription chance mean toward quartz incorrect various skeptic try matter criminal speculation possible failed calamity certain entrepreneur segment write series one driver verification field appear industry transfer leader often gamechanger proliferation lexology card drive overzealously post important grow duplicate bitcoins develop believe become career innovative leave tenet great justified aggressive core commonly investor something ability market \n",
       "<mark class=\"entity\" style=\"background: lilac; padding: 0.45em 0.6em; margin: 0 0.25em; line-height: 1; border-radius: 0.35em;\">\n",
       "    malware\n",
       "    <span style=\"font-size: 0.8em; font-weight: bold; line-height: 1; border-radius: 0.35em; vertical-align: middle; margin-left: 0.5rem\">CST</span>\n",
       "</mark>\n",
       " entrepreneur implementation however claim abstract might hundred unique need usefulness difficulttotrace name executive neither foundation violation late true force compromise advantage boom thousand data year whitecollar drug exploit discover secure afshar day incentivize ship give interaction business pursue transmission fail especially australian place disappear technology manipulation increasingly adopt presence embrace serve technique exploitation even part development explain particular tech majority skeptical system easily time broken technology currency supply show specialist peer credit result growth doubt professional arena release stop definitively use transaction safeguard role although</div></span>"
      ],
      "text/plain": [
       "<IPython.core.display.HTML object>"
      ]
     },
     "metadata": {},
     "output_type": "display_data"
    },
    {
     "data": {
      "text/html": [
       "<span class=\"tex2jax_ignore\"><div class=\"entities\" style=\"line-height: 2.5; direction: ltr\">rapid response \n",
       "<mark class=\"entity\" style=\"background: lilac; padding: 0.45em 0.6em; margin: 0 0.25em; line-height: 1; border-radius: 0.35em;\">\n",
       "    vulnerability\n",
       "    <span style=\"font-size: 0.8em; font-weight: bold; line-height: 1; border-radius: 0.35em; vertical-align: middle; margin-left: 0.5rem\">CST</span>\n",
       "</mark>\n",
       " proofofconcept transparency reaction incident check deactivate ability target attack exploit tell make digicert developer note note tool quinlan attacker explain master succession researcher report go popular leyden well range importance scan devops reveal security system go firm main relate say cloudbased recent advisory internet add neither comment independent publish prime pair widely log source last rody management explain post data lab customer operate mine gain monitoring immediately daily expose victim unsuccessful shaken case configuration right assault exploit within release harden abusing manager must servers day target affect advice pepper attempt key severe rash open tenable work ltd infrastructure framework combination use center product run approximately towards blogging pandemic recognize control swig report may software network suite previously severity code affect \n",
       "<mark class=\"entity\" style=\"background: lilac; padding: 0.45em 0.6em; margin: 0 0.25em; line-height: 1; border-radius: 0.35em;\">\n",
       "    authentication\n",
       "    <span style=\"font-size: 0.8em; font-weight: bold; line-height: 1; border-radius: 0.35em; vertical-align: middle; margin-left: 0.5rem\">CST</span>\n",
       "</mark>\n",
       " detect environment increasingly unauthenticated master vendor post prompting fail identified attacker reiterate flaw due echoed exploitation fsecure ask firm company traversal tech particular flaw complete subsequent find expect environment release system exploitable easily actively critical cryptocurrency lineageos project public pair \n",
       "<mark class=\"entity\" style=\"background: lilac; padding: 0.45em 0.6em; margin: 0 0.25em; line-height: 1; border-radius: 0.35em;\">\n",
       "    vulnerability\n",
       "    <span style=\"font-size: 0.8em; font-weight: bold; line-height: 1; border-radius: 0.35em; vertical-align: middle; margin-left: 0.5rem\">CST</span>\n",
       "</mark>\n",
       " several access portswigger attack poc essentially vulnerable mobile sign increase update issued digital saltstack would fall quickly server exploit blog jleyden ease important lengthy release short week remote directory provide withhold burp way ghost john build github insight yesterday target bypass center platform update tasty become hour apply \n",
       "<mark class=\"entity\" style=\"background: lilac; padding: 0.45em 0.6em; margin: 0 0.25em; line-height: 1; border-radius: 0.35em;\">\n",
       "    cybersecurity\n",
       "    <span style=\"font-size: 0.8em; font-weight: bold; line-height: 1; border-radius: 0.35em; vertical-align: middle; margin-left: 0.5rem\">CST</span>\n",
       "</mark>\n",
       " variety certificate core salt abuse deployment</div></span>"
      ],
      "text/plain": [
       "<IPython.core.display.HTML object>"
      ]
     },
     "metadata": {},
     "output_type": "display_data"
    }
   ],
   "source": [
    "for sentence in sensitive['Content'][:4]:\n",
    "#   print(\"Sentence is: \", sentence)\n",
    "  sentence_doc = nlp1(sentence)\n",
    "  colors = {LABEL: \"lilac\"}\n",
    "  options = {\"ents\": [LABEL], \"colors\": colors}\n",
    "  displacy.render(sentence_doc, style='ent', jupyter=True, options=options)"
   ]
  },
  {
   "cell_type": "markdown",
   "id": "c5de4977",
   "metadata": {},
   "source": [
    "# RELATIONSHIP EXTRACTION - USING SUBTREE MATCHING\n",
    "\n",
    "The relations of interest are embedded within works at and is located in. Seems like we should be able to detect these using NLP somehow. Let’s give this problem a name: <i>relational phrase extraction</i>."
   ]
  },
  {
   "cell_type": "code",
   "execution_count": 34,
   "id": "bd817398",
   "metadata": {},
   "outputs": [
    {
     "name": "stdout",
     "output_type": "stream",
     "text": [
      "Hacker --> nsubj --> PROPN\n",
      "\n",
      "attacked --> ROOT --> VERB\n",
      "\n",
      "the --> det --> DET\n",
      "\n",
      "vpn --> dobj --> NOUN\n",
      "\n",
      "and --> cc --> CCONJ\n",
      "\n",
      "firewall --> conj --> NOUN\n",
      "\n"
     ]
    },
    {
     "data": {
      "text/html": [
       "<span class=\"tex2jax_ignore\"><svg xmlns=\"http://www.w3.org/2000/svg\" xmlns:xlink=\"http://www.w3.org/1999/xlink\" xml:lang=\"en\" id=\"afb0930f96664047992927807d97b43b-0\" class=\"displacy\" width=\"1100\" height=\"312.0\" direction=\"ltr\" style=\"max-width: none; height: 312.0px; color: #000000; background: #ffffff; font-family: Arial; direction: ltr\">\n",
       "<text class=\"displacy-token\" fill=\"currentColor\" text-anchor=\"middle\" y=\"222.0\">\n",
       "    <tspan class=\"displacy-word\" fill=\"currentColor\" x=\"50\">Hacker</tspan>\n",
       "    <tspan class=\"displacy-tag\" dy=\"2em\" fill=\"currentColor\" x=\"50\">PROPN</tspan>\n",
       "</text>\n",
       "\n",
       "<text class=\"displacy-token\" fill=\"currentColor\" text-anchor=\"middle\" y=\"222.0\">\n",
       "    <tspan class=\"displacy-word\" fill=\"currentColor\" x=\"225\">attacked</tspan>\n",
       "    <tspan class=\"displacy-tag\" dy=\"2em\" fill=\"currentColor\" x=\"225\">VERB</tspan>\n",
       "</text>\n",
       "\n",
       "<text class=\"displacy-token\" fill=\"currentColor\" text-anchor=\"middle\" y=\"222.0\">\n",
       "    <tspan class=\"displacy-word\" fill=\"currentColor\" x=\"400\">the</tspan>\n",
       "    <tspan class=\"displacy-tag\" dy=\"2em\" fill=\"currentColor\" x=\"400\">DET</tspan>\n",
       "</text>\n",
       "\n",
       "<text class=\"displacy-token\" fill=\"currentColor\" text-anchor=\"middle\" y=\"222.0\">\n",
       "    <tspan class=\"displacy-word\" fill=\"currentColor\" x=\"575\">vpn</tspan>\n",
       "    <tspan class=\"displacy-tag\" dy=\"2em\" fill=\"currentColor\" x=\"575\">NOUN</tspan>\n",
       "</text>\n",
       "\n",
       "<text class=\"displacy-token\" fill=\"currentColor\" text-anchor=\"middle\" y=\"222.0\">\n",
       "    <tspan class=\"displacy-word\" fill=\"currentColor\" x=\"750\">and</tspan>\n",
       "    <tspan class=\"displacy-tag\" dy=\"2em\" fill=\"currentColor\" x=\"750\">CCONJ</tspan>\n",
       "</text>\n",
       "\n",
       "<text class=\"displacy-token\" fill=\"currentColor\" text-anchor=\"middle\" y=\"222.0\">\n",
       "    <tspan class=\"displacy-word\" fill=\"currentColor\" x=\"925\">firewall</tspan>\n",
       "    <tspan class=\"displacy-tag\" dy=\"2em\" fill=\"currentColor\" x=\"925\">NOUN</tspan>\n",
       "</text>\n",
       "\n",
       "<g class=\"displacy-arrow\">\n",
       "    <path class=\"displacy-arc\" id=\"arrow-afb0930f96664047992927807d97b43b-0-0\" stroke-width=\"2px\" d=\"M70,177.0 C70,89.5 220.0,89.5 220.0,177.0\" fill=\"none\" stroke=\"currentColor\"/>\n",
       "    <text dy=\"1.25em\" style=\"font-size: 0.8em; letter-spacing: 1px\">\n",
       "        <textPath xlink:href=\"#arrow-afb0930f96664047992927807d97b43b-0-0\" class=\"displacy-label\" startOffset=\"50%\" side=\"left\" fill=\"currentColor\" text-anchor=\"middle\">nsubj</textPath>\n",
       "    </text>\n",
       "    <path class=\"displacy-arrowhead\" d=\"M70,179.0 L62,167.0 78,167.0\" fill=\"currentColor\"/>\n",
       "</g>\n",
       "\n",
       "<g class=\"displacy-arrow\">\n",
       "    <path class=\"displacy-arc\" id=\"arrow-afb0930f96664047992927807d97b43b-0-1\" stroke-width=\"2px\" d=\"M420,177.0 C420,89.5 570.0,89.5 570.0,177.0\" fill=\"none\" stroke=\"currentColor\"/>\n",
       "    <text dy=\"1.25em\" style=\"font-size: 0.8em; letter-spacing: 1px\">\n",
       "        <textPath xlink:href=\"#arrow-afb0930f96664047992927807d97b43b-0-1\" class=\"displacy-label\" startOffset=\"50%\" side=\"left\" fill=\"currentColor\" text-anchor=\"middle\">det</textPath>\n",
       "    </text>\n",
       "    <path class=\"displacy-arrowhead\" d=\"M420,179.0 L412,167.0 428,167.0\" fill=\"currentColor\"/>\n",
       "</g>\n",
       "\n",
       "<g class=\"displacy-arrow\">\n",
       "    <path class=\"displacy-arc\" id=\"arrow-afb0930f96664047992927807d97b43b-0-2\" stroke-width=\"2px\" d=\"M245,177.0 C245,2.0 575.0,2.0 575.0,177.0\" fill=\"none\" stroke=\"currentColor\"/>\n",
       "    <text dy=\"1.25em\" style=\"font-size: 0.8em; letter-spacing: 1px\">\n",
       "        <textPath xlink:href=\"#arrow-afb0930f96664047992927807d97b43b-0-2\" class=\"displacy-label\" startOffset=\"50%\" side=\"left\" fill=\"currentColor\" text-anchor=\"middle\">dobj</textPath>\n",
       "    </text>\n",
       "    <path class=\"displacy-arrowhead\" d=\"M575.0,179.0 L583.0,167.0 567.0,167.0\" fill=\"currentColor\"/>\n",
       "</g>\n",
       "\n",
       "<g class=\"displacy-arrow\">\n",
       "    <path class=\"displacy-arc\" id=\"arrow-afb0930f96664047992927807d97b43b-0-3\" stroke-width=\"2px\" d=\"M595,177.0 C595,89.5 745.0,89.5 745.0,177.0\" fill=\"none\" stroke=\"currentColor\"/>\n",
       "    <text dy=\"1.25em\" style=\"font-size: 0.8em; letter-spacing: 1px\">\n",
       "        <textPath xlink:href=\"#arrow-afb0930f96664047992927807d97b43b-0-3\" class=\"displacy-label\" startOffset=\"50%\" side=\"left\" fill=\"currentColor\" text-anchor=\"middle\">cc</textPath>\n",
       "    </text>\n",
       "    <path class=\"displacy-arrowhead\" d=\"M745.0,179.0 L753.0,167.0 737.0,167.0\" fill=\"currentColor\"/>\n",
       "</g>\n",
       "\n",
       "<g class=\"displacy-arrow\">\n",
       "    <path class=\"displacy-arc\" id=\"arrow-afb0930f96664047992927807d97b43b-0-4\" stroke-width=\"2px\" d=\"M595,177.0 C595,2.0 925.0,2.0 925.0,177.0\" fill=\"none\" stroke=\"currentColor\"/>\n",
       "    <text dy=\"1.25em\" style=\"font-size: 0.8em; letter-spacing: 1px\">\n",
       "        <textPath xlink:href=\"#arrow-afb0930f96664047992927807d97b43b-0-4\" class=\"displacy-label\" startOffset=\"50%\" side=\"left\" fill=\"currentColor\" text-anchor=\"middle\">conj</textPath>\n",
       "    </text>\n",
       "    <path class=\"displacy-arrowhead\" d=\"M925.0,179.0 L933.0,167.0 917.0,167.0\" fill=\"currentColor\"/>\n",
       "</g>\n",
       "</svg></span>"
      ],
      "text/plain": [
       "<IPython.core.display.HTML object>"
      ]
     },
     "metadata": {},
     "output_type": "display_data"
    }
   ],
   "source": [
    "text = \"Hacker attacked the vpn and firewall\"\n",
    "nlp = spacy.load(\"en_core_web_sm\")\n",
    "\n",
    "doc = nlp(text) \n",
    "\n",
    "for tok in doc: \n",
    "    print(tok.text,\"-->\",tok.dep_,\"-->\",tok.pos_)\n",
    "    print()\n",
    "    \n",
    "displacy.render(doc, style='dep',jupyter=True)"
   ]
  },
  {
   "cell_type": "code",
   "execution_count": 35,
   "id": "0ae12be9",
   "metadata": {},
   "outputs": [],
   "source": [
    "def subtree_matcher(doc):\n",
    "  subjpass = 0\n",
    "\n",
    "  for i,tok in enumerate(doc):\n",
    "    # find dependency tag that contains the text \"subjpass\"    \n",
    "    if tok.dep_.find(\"subjpass\") == True:\n",
    "      subjpass = 1\n",
    "\n",
    "  x = ''\n",
    "  y = ''\n",
    "  v = ''\n",
    "\n",
    "  # if subjpass == 1 then sentence is passive\n",
    "  if subjpass == 1:\n",
    "    for i,tok in enumerate(doc):\n",
    "      if tok.dep_.find(\"subjpass\") == True:\n",
    "        y = tok.text\n",
    "\n",
    "      if tok.dep_.endswith(\"obj\") == True:\n",
    "        x = tok.text\n",
    "  \n",
    "  # if subjpass == 0 then sentence is not passive\n",
    "  else:\n",
    "    for i,tok in enumerate(doc):\n",
    "      if tok.dep_.endswith(\"subj\") == True:\n",
    "        x = tok.text\n",
    "\n",
    "      if tok.dep_.endswith(\"obj\") == True:\n",
    "        y = tok.text\n",
    "        \n",
    "  for i,tok in enumerate(doc):\n",
    "    if tok.dep_ == \"ROOT\":\n",
    "        v = tok.text\n",
    "\n",
    "  return x,y,v"
   ]
  },
  {
   "cell_type": "code",
   "execution_count": 36,
   "id": "24d510a6",
   "metadata": {},
   "outputs": [],
   "source": [
    "dfr = pd.DataFrame(columns = ['Entity1', 'Entity2', 'Relation'])\n",
    "i = 0\n",
    "for filename in sensitive['CyberSecurityFile']:\n",
    "    file = open(filename, 'rt', encoding=\"utf8\")\n",
    "    text = file.read()\n",
    "    s_list = nltk.tokenize.sent_tokenize(text)\n",
    "    for txt in s_list:\n",
    "        doc = nlp(txt)\n",
    "        token_list = []\n",
    "        txt_proc = ''\n",
    "        for token in doc:\n",
    "            token_list.append(token.text)\n",
    "\n",
    "        # Create list of word tokens after removing stopwords\n",
    "        filtered_sentence =[] \n",
    "\n",
    "        for word in token_list:\n",
    "            lexeme = nlp.vocab[word]\n",
    "            if lexeme.is_stop == False:\n",
    "                filtered_sentence.append(word)\n",
    "        \n",
    "        txt_proc = ' '.join(filtered_sentence)\n",
    "        doc_proc = nlp(txt_proc)\n",
    "        \n",
    "        x, y, v = subtree_matcher(doc_proc)\n",
    "        if x != '' and y != '' and v != '':\n",
    "            dfr.loc[i] = [x, y, v]\n",
    "            i += 1\n",
    "    file.close()"
   ]
  },
  {
   "cell_type": "code",
   "execution_count": 37,
   "id": "f08b8393",
   "metadata": {},
   "outputs": [
    {
     "data": {
      "text/html": [
       "<div>\n",
       "<style scoped>\n",
       "    .dataframe tbody tr th:only-of-type {\n",
       "        vertical-align: middle;\n",
       "    }\n",
       "\n",
       "    .dataframe tbody tr th {\n",
       "        vertical-align: top;\n",
       "    }\n",
       "\n",
       "    .dataframe thead th {\n",
       "        text-align: right;\n",
       "    }\n",
       "</style>\n",
       "<table border=\"1\" class=\"dataframe\">\n",
       "  <thead>\n",
       "    <tr style=\"text-align: right;\">\n",
       "      <th></th>\n",
       "      <th>Entity1</th>\n",
       "      <th>Entity2</th>\n",
       "      <th>Relation</th>\n",
       "    </tr>\n",
       "  </thead>\n",
       "  <tbody>\n",
       "    <tr>\n",
       "      <th>0</th>\n",
       "      <td>crimes</td>\n",
       "      <td>alienation</td>\n",
       "      <td>expose</td>\n",
       "    </tr>\n",
       "    <tr>\n",
       "      <th>1</th>\n",
       "      <td>plane</td>\n",
       "      <td>darkness</td>\n",
       "      <td>clarity</td>\n",
       "    </tr>\n",
       "    <tr>\n",
       "      <th>2</th>\n",
       "      <td>impulses</td>\n",
       "      <td>politic</td>\n",
       "      <td>understood</td>\n",
       "    </tr>\n",
       "    <tr>\n",
       "      <th>3</th>\n",
       "      <td>Francis</td>\n",
       "      <td>insults</td>\n",
       "      <td>underscored</td>\n",
       "    </tr>\n",
       "    <tr>\n",
       "      <th>4</th>\n",
       "      <td>view</td>\n",
       "      <td>plane</td>\n",
       "      <td>expect</td>\n",
       "    </tr>\n",
       "    <tr>\n",
       "      <th>...</th>\n",
       "      <td>...</td>\n",
       "      <td>...</td>\n",
       "      <td>...</td>\n",
       "    </tr>\n",
       "    <tr>\n",
       "      <th>17184</th>\n",
       "      <td>offices</td>\n",
       "      <td>personnel</td>\n",
       "      <td>attacks</td>\n",
       "    </tr>\n",
       "    <tr>\n",
       "      <th>17185</th>\n",
       "      <td>Gogh</td>\n",
       "      <td>Submission</td>\n",
       "      <td>stabbed</td>\n",
       "    </tr>\n",
       "    <tr>\n",
       "      <th>17186</th>\n",
       "      <td>Korea</td>\n",
       "      <td>Prophet</td>\n",
       "      <td>venerate</td>\n",
       "    </tr>\n",
       "    <tr>\n",
       "      <th>17187</th>\n",
       "      <td>comedy</td>\n",
       "      <td>permission</td>\n",
       "      <td>movies</td>\n",
       "    </tr>\n",
       "    <tr>\n",
       "      <th>17188</th>\n",
       "      <td>Rose</td>\n",
       "      <td>Silence</td>\n",
       "      <td>calls</td>\n",
       "    </tr>\n",
       "  </tbody>\n",
       "</table>\n",
       "<p>17189 rows × 3 columns</p>\n",
       "</div>"
      ],
      "text/plain": [
       "        Entity1     Entity2     Relation\n",
       "0        crimes  alienation       expose\n",
       "1         plane    darkness      clarity\n",
       "2      impulses     politic   understood\n",
       "3       Francis     insults  underscored\n",
       "4          view       plane       expect\n",
       "...         ...         ...          ...\n",
       "17184   offices   personnel      attacks\n",
       "17185      Gogh  Submission      stabbed\n",
       "17186     Korea     Prophet     venerate\n",
       "17187    comedy  permission       movies\n",
       "17188      Rose     Silence        calls\n",
       "\n",
       "[17189 rows x 3 columns]"
      ]
     },
     "execution_count": 37,
     "metadata": {},
     "output_type": "execute_result"
    }
   ],
   "source": [
    "dfr"
   ]
  },
  {
   "cell_type": "code",
   "execution_count": 38,
   "id": "19e3101c",
   "metadata": {},
   "outputs": [],
   "source": [
    "import networkx as nx\n",
    "\n",
    "dfrs = dfr[['Entity1', 'Entity2']]\n",
    "tuples = [tuple(x) for x in dfrs.to_numpy()]\n",
    "\n",
    "graph = nx.DiGraph()\n",
    "graph.add_edges_from(tuples)"
   ]
  },
  {
   "cell_type": "code",
   "execution_count": 39,
   "id": "761913f3",
   "metadata": {},
   "outputs": [
    {
     "data": {
      "text/plain": [
       "<Figure size 640x480 with 0 Axes>"
      ]
     },
     "metadata": {},
     "output_type": "display_data"
    }
   ],
   "source": [
    "from matplotlib import pyplot as plt\n",
    "# %matplolib inline\n",
    "\n",
    "plt.tight_layout()\n",
    "nx.draw_networkx(graph, arrows=True)\n",
    "plt.savefig(\"../output/images/dg.png\", format=\"PNG\")\n",
    "\n",
    "plt.clf()"
   ]
  },
  {
   "cell_type": "code",
   "execution_count": 40,
   "id": "763672b7",
   "metadata": {},
   "outputs": [
    {
     "name": "stdout",
     "output_type": "stream",
     "text": [
      "200\n"
     ]
    }
   ],
   "source": [
    "# saving files\n",
    "print(len(sensitive))\n",
    "\n",
    "dfr.to_csv('../output/dataframes/ner-re.csv')\n",
    "corpus.to_csv('../output/dataframes/corpus-proc.csv')\n",
    "sensitive.to_csv('../output/dataframes/sensitive.csv')\n",
    "unsensitive.to_csv('../output/dataframes/unsensitive.csv')"
   ]
  },
  {
   "cell_type": "code",
   "execution_count": 41,
   "id": "6839fc5b",
   "metadata": {},
   "outputs": [],
   "source": [
    "#Example of one file:\n",
    "exdfr = pd.DataFrame(columns = ['Entity1', 'Entity2', 'Relation'])\n",
    "i = 0\n",
    "\n",
    "file = open(\"117.txt\", 'rt', encoding=\"utf8\")\n",
    "text = file.read()\n",
    "a_list = nltk.tokenize.sent_tokenize(text)\n",
    "for txt in a_list:\n",
    "    doc = nlp(txt)\n",
    "    token_list = []\n",
    "    txt_proc = ''\n",
    "    for token in doc:\n",
    "        token_list.append(token.text)\n",
    "\n",
    "    # Create list of word tokens after removing stopwords\n",
    "    filtered_sentence =[] \n",
    "\n",
    "    for word in token_list:\n",
    "        lexeme = nlp.vocab[word]\n",
    "        if lexeme.is_stop == False:\n",
    "            filtered_sentence.append(word)\n",
    "        \n",
    "    txt_proc = ' '.join(filtered_sentence)\n",
    "    doc_proc = nlp(txt_proc)\n",
    "        \n",
    "    x, y, v = subtree_matcher(doc_proc)\n",
    "    if x != '' and y != '' and v != '':\n",
    "        exdfr.loc[i] = [x, y, v]\n",
    "        i += 1\n",
    "file.close()"
   ]
  },
  {
   "cell_type": "code",
   "execution_count": 42,
   "id": "3876c9e5",
   "metadata": {},
   "outputs": [
    {
     "data": {
      "text/html": [
       "<div>\n",
       "<style scoped>\n",
       "    .dataframe tbody tr th:only-of-type {\n",
       "        vertical-align: middle;\n",
       "    }\n",
       "\n",
       "    .dataframe tbody tr th {\n",
       "        vertical-align: top;\n",
       "    }\n",
       "\n",
       "    .dataframe thead th {\n",
       "        text-align: right;\n",
       "    }\n",
       "</style>\n",
       "<table border=\"1\" class=\"dataframe\">\n",
       "  <thead>\n",
       "    <tr style=\"text-align: right;\">\n",
       "      <th></th>\n",
       "      <th>Entity1</th>\n",
       "      <th>Entity2</th>\n",
       "      <th>Relation</th>\n",
       "    </tr>\n",
       "  </thead>\n",
       "  <tbody>\n",
       "    <tr>\n",
       "      <th>0</th>\n",
       "      <td>research</td>\n",
       "      <td>response</td>\n",
       "      <td>indicates</td>\n",
       "    </tr>\n",
       "    <tr>\n",
       "      <th>1</th>\n",
       "      <td>technology</td>\n",
       "      <td>systems</td>\n",
       "      <td>allows</td>\n",
       "    </tr>\n",
       "    <tr>\n",
       "      <th>2</th>\n",
       "      <td>attempts</td>\n",
       "      <td>networks</td>\n",
       "      <td>exposed</td>\n",
       "    </tr>\n",
       "    <tr>\n",
       "      <th>3</th>\n",
       "      <td>cybercriminals</td>\n",
       "      <td>markets</td>\n",
       "      <td>abused</td>\n",
       "    </tr>\n",
       "    <tr>\n",
       "      <th>4</th>\n",
       "      <td>Roccia</td>\n",
       "      <td>ease</td>\n",
       "      <td>notes</td>\n",
       "    </tr>\n",
       "  </tbody>\n",
       "</table>\n",
       "</div>"
      ],
      "text/plain": [
       "          Entity1   Entity2   Relation\n",
       "0        research  response  indicates\n",
       "1      technology   systems     allows\n",
       "2        attempts  networks    exposed\n",
       "3  cybercriminals   markets     abused\n",
       "4          Roccia      ease      notes"
      ]
     },
     "execution_count": 42,
     "metadata": {},
     "output_type": "execute_result"
    }
   ],
   "source": [
    "exdfr.dropna(inplace = True)\n",
    "exdfr.head()"
   ]
  },
  {
   "cell_type": "code",
   "execution_count": 43,
   "id": "04a15c14",
   "metadata": {},
   "outputs": [],
   "source": [
    "exdfrs = exdfr[['Entity1', 'Entity2']]\n",
    "extuples = [tuple(x) for x in exdfrs.to_numpy()]\n",
    "\n",
    "graph_ex = nx.DiGraph()\n",
    "graph_ex.add_edges_from(extuples)\n",
    "\n",
    "nodes = list(graph_ex.nodes())"
   ]
  },
  {
   "cell_type": "code",
   "execution_count": 44,
   "id": "71a8e104",
   "metadata": {},
   "outputs": [
    {
     "data": {
      "image/png": "[encoded data removed]",
      "text/plain": [
       "<Figure size 1200x800 with 1 Axes>"
      ]
     },
     "metadata": {},
     "output_type": "display_data"
    }
   ],
   "source": [
    "from matplotlib.pyplot import figure\n",
    "\n",
    "figure(figsize=(15, 10), dpi=80)\n",
    "\n",
    "plt.tight_layout()\n",
    "\n",
    "node_size = [100*len(i) for i in nodes]\n",
    "pos = nx.circular_layout(graph_ex)\n",
    "nx.draw_networkx(graph_ex, pos, arrows = True, node_size = node_size, with_labels = True)\n",
    "plt.savefig(\"../output/images/dg_ex.png\", format=\"PNG\")\n",
    "\n",
    "plt.show()"
   ]
  },
  {
   "cell_type": "code",
   "execution_count": null,
   "id": "9afc25a5",
   "metadata": {},
   "outputs": [],
   "source": []
  },
  {
   "cell_type": "code",
   "execution_count": null,
   "id": "f1a7c180",
   "metadata": {},
   "outputs": [],
   "source": []
  }
 ],
 "metadata": {
  "kernelspec": {
   "display_name": "Python 3 (ipykernel)",
   "language": "python",
   "name": "python3"
  },
  "language_info": {
   "codemirror_mode": {
    "name": "ipython",
    "version": 3
   },
   "file_extension": ".py",
   "mimetype": "text/x-python",
   "name": "python",
   "nbconvert_exporter": "python",
   "pygments_lexer": "ipython3",
   "version": "3.9.13"
  }
 },
 "nbformat": 4,
 "nbformat_minor": 5
}
