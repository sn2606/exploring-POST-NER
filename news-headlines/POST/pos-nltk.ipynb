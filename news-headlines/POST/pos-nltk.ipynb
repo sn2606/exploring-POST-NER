{
 "cells": [
  {
   "cell_type": "code",
   "execution_count": 1,
   "id": "36dcf802-688a-4447-8ec8-de1fbee4489a",
   "metadata": {},
   "outputs": [],
   "source": [
    "import numpy as np\n",
    "import pandas as pd\n",
    "import nltk\n",
    "from nltk import word_tokenize\n",
    "import spacy\n",
    "from spacy import displacy\n",
    "import string\n",
    "import seaborn as sb\n",
    "import matplotlib.pyplot as plt"
   ]
  },
  {
   "cell_type": "code",
   "execution_count": 2,
   "id": "a5f76f87-816c-425f-b332-dcf4da849997",
   "metadata": {},
   "outputs": [
    {
     "data": {
      "text/html": [
       "<div>\n",
       "<style scoped>\n",
       "    .dataframe tbody tr th:only-of-type {\n",
       "        vertical-align: middle;\n",
       "    }\n",
       "\n",
       "    .dataframe tbody tr th {\n",
       "        vertical-align: top;\n",
       "    }\n",
       "\n",
       "    .dataframe thead th {\n",
       "        text-align: right;\n",
       "    }\n",
       "</style>\n",
       "<table border=\"1\" class=\"dataframe\">\n",
       "  <thead>\n",
       "    <tr style=\"text-align: right;\">\n",
       "      <th></th>\n",
       "      <th>publish_date</th>\n",
       "      <th>headline_text</th>\n",
       "    </tr>\n",
       "  </thead>\n",
       "  <tbody>\n",
       "    <tr>\n",
       "      <th>0</th>\n",
       "      <td>2003-02-19</td>\n",
       "      <td>aba decides against community broadcasting lic...</td>\n",
       "    </tr>\n",
       "    <tr>\n",
       "      <th>1</th>\n",
       "      <td>2003-02-19</td>\n",
       "      <td>act fire witnesses must be aware of defamation</td>\n",
       "    </tr>\n",
       "    <tr>\n",
       "      <th>2</th>\n",
       "      <td>2003-02-19</td>\n",
       "      <td>a g calls for infrastructure protection summit</td>\n",
       "    </tr>\n",
       "    <tr>\n",
       "      <th>3</th>\n",
       "      <td>2003-02-19</td>\n",
       "      <td>air nz staff in aust strike for pay rise</td>\n",
       "    </tr>\n",
       "    <tr>\n",
       "      <th>4</th>\n",
       "      <td>2003-02-19</td>\n",
       "      <td>air nz strike to affect australian travellers</td>\n",
       "    </tr>\n",
       "  </tbody>\n",
       "</table>\n",
       "</div>"
      ],
      "text/plain": [
       "  publish_date                                      headline_text\n",
       "0   2003-02-19  aba decides against community broadcasting lic...\n",
       "1   2003-02-19     act fire witnesses must be aware of defamation\n",
       "2   2003-02-19     a g calls for infrastructure protection summit\n",
       "3   2003-02-19           air nz staff in aust strike for pay rise\n",
       "4   2003-02-19      air nz strike to affect australian travellers"
      ]
     },
     "execution_count": 2,
     "metadata": {},
     "output_type": "execute_result"
    }
   ],
   "source": [
    "df = pd.read_csv('../abcnews-date-text.csv', parse_dates=[0], infer_datetime_format=True)\n",
    "df.head()"
   ]
  },
  {
   "cell_type": "code",
   "execution_count": 3,
   "id": "83f89563-96f0-48d2-ab9f-86cbe54a38b9",
   "metadata": {},
   "outputs": [
    {
     "data": {
      "text/plain": [
       "(1244184, 2)"
      ]
     },
     "execution_count": 3,
     "metadata": {},
     "output_type": "execute_result"
    }
   ],
   "source": [
    "df.shape"
   ]
  },
  {
   "cell_type": "code",
   "execution_count": 4,
   "id": "e7a4f510-bced-4ca0-943c-1d53527eb200",
   "metadata": {},
   "outputs": [],
   "source": [
    "df = df.drop_duplicates(subset='headline_text', keep='first')"
   ]
  },
  {
   "cell_type": "code",
   "execution_count": 5,
   "id": "b9b32b2e-7165-4521-aa02-744af15c3ac8",
   "metadata": {},
   "outputs": [
    {
     "name": "stdout",
     "output_type": "stream",
     "text": [
      "<class 'pandas.core.series.Series'>\n",
      "(1213004,)\n"
     ]
    }
   ],
   "source": [
    "text = df['headline_text']\n",
    "print(type(text))\n",
    "print(text.shape)"
   ]
  },
  {
   "cell_type": "code",
   "execution_count": 6,
   "id": "14a3c0c2-84f6-493a-be40-bcdb77bc3a53",
   "metadata": {},
   "outputs": [
    {
     "name": "stderr",
     "output_type": "stream",
     "text": [
      "/var/folders/b2/_68m8r0j7rqg0k17ytq7jtc80000gn/T/ipykernel_1360/3862757789.py:1: FutureWarning: The behavior of `series[i:j]` with an integer-dtype index is deprecated. In a future version, this will be treated as *label-based* indexing, consistent with e.g. `series[i]` lookups. To retain the old behavior, use `series.iloc[i:j]`. To get the future behavior, use `series.loc[i:j]`.\n",
      "  text[0:10]\n"
     ]
    },
    {
     "data": {
      "text/plain": [
       "0    aba decides against community broadcasting lic...\n",
       "1       act fire witnesses must be aware of defamation\n",
       "2       a g calls for infrastructure protection summit\n",
       "3             air nz staff in aust strike for pay rise\n",
       "4        air nz strike to affect australian travellers\n",
       "5                    ambitious olsson wins triple jump\n",
       "6           antic delighted with record breaking barca\n",
       "7    aussie qualifier stosur wastes four memphis match\n",
       "8         aust addresses un security council over iraq\n",
       "9           australia is locked into war timetable opp\n",
       "Name: headline_text, dtype: object"
      ]
     },
     "execution_count": 6,
     "metadata": {},
     "output_type": "execute_result"
    }
   ],
   "source": [
    "text[0:10]"
   ]
  },
  {
   "cell_type": "code",
   "execution_count": 7,
   "id": "8373a699-58a3-4875-9d85-86b0f61dc845",
   "metadata": {},
   "outputs": [
    {
     "data": {
      "text/plain": [
       "str"
      ]
     },
     "execution_count": 7,
     "metadata": {},
     "output_type": "execute_result"
    }
   ],
   "source": [
    "type(text[0])"
   ]
  },
  {
   "cell_type": "markdown",
   "id": "c846149a-c3e2-4546-9448-240cf571baa8",
   "metadata": {},
   "source": [
    "## POS with NLTK"
   ]
  },
  {
   "cell_type": "code",
   "execution_count": 8,
   "id": "f7d33fef-9c33-460d-b317-40aa4bfed9b0",
   "metadata": {},
   "outputs": [],
   "source": [
    "from nltk.corpus import stopwords\n",
    "from nltk.tokenize import word_tokenize, sent_tokenize\n",
    "stop_words = set(stopwords.words('english'))"
   ]
  },
  {
   "cell_type": "code",
   "execution_count": 9,
   "id": "f100c5e2-c357-4f70-89c5-5267e9785df6",
   "metadata": {},
   "outputs": [],
   "source": [
    "def tokenize(sentence):\n",
    "    tokenized = sent_tokenize(sentence)\n",
    "    words_list = []\n",
    "    for i in tokenized:\n",
    "        wt = nltk.word_tokenize(i)\n",
    "        words_list.append(wt)#[w for w in wt if not w in stop_words]\n",
    "    return words_list"
   ]
  },
  {
   "cell_type": "code",
   "execution_count": 10,
   "id": "c91c72de-4888-4bd8-aec9-ea484da33a9a",
   "metadata": {},
   "outputs": [],
   "source": [
    "token_list = [tokenize(doc) for doc in text]"
   ]
  },
  {
   "cell_type": "code",
   "execution_count": 11,
   "id": "bdaf2d37-6049-45be-9a47-a19533a5828c",
   "metadata": {},
   "outputs": [
    {
     "data": {
      "text/plain": [
       "[[['aba', 'decides', 'against', 'community', 'broadcasting', 'licence']],\n",
       " [['act', 'fire', 'witnesses', 'must', 'be', 'aware', 'of', 'defamation']],\n",
       " [['a', 'g', 'calls', 'for', 'infrastructure', 'protection', 'summit']],\n",
       " [['air', 'nz', 'staff', 'in', 'aust', 'strike', 'for', 'pay', 'rise']],\n",
       " [['air', 'nz', 'strike', 'to', 'affect', 'australian', 'travellers']],\n",
       " [['ambitious', 'olsson', 'wins', 'triple', 'jump']],\n",
       " [['antic', 'delighted', 'with', 'record', 'breaking', 'barca']],\n",
       " [['aussie', 'qualifier', 'stosur', 'wastes', 'four', 'memphis', 'match']],\n",
       " [['aust', 'addresses', 'un', 'security', 'council', 'over', 'iraq']],\n",
       " [['australia', 'is', 'locked', 'into', 'war', 'timetable', 'opp']]]"
      ]
     },
     "execution_count": 11,
     "metadata": {},
     "output_type": "execute_result"
    }
   ],
   "source": [
    "token_list[0:10]"
   ]
  },
  {
   "cell_type": "code",
   "execution_count": 12,
   "id": "0f69c350-90cc-496a-b15f-629d7c38dd31",
   "metadata": {},
   "outputs": [],
   "source": [
    "tagged_list = [[nltk.pos_tag(words) for words in tk] for tk in token_list]"
   ]
  },
  {
   "cell_type": "code",
   "execution_count": 14,
   "id": "4a15d27b-d941-4479-b299-d9676188157f",
   "metadata": {},
   "outputs": [
    {
     "data": {
      "text/plain": [
       "[[('aba', 'JJ'),\n",
       "  ('decides', 'NNS'),\n",
       "  ('against', 'IN'),\n",
       "  ('community', 'NN'),\n",
       "  ('broadcasting', 'NN'),\n",
       "  ('licence', 'NN')]]"
      ]
     },
     "execution_count": 14,
     "metadata": {},
     "output_type": "execute_result"
    }
   ],
   "source": [
    "tagged_list[0]"
   ]
  },
  {
   "cell_type": "code",
   "execution_count": 17,
   "id": "37c2a356-0215-47cb-8902-cdec902ed455",
   "metadata": {},
   "outputs": [],
   "source": [
    "pred_tags = [[item for sublist in tsl for item in sublist] for tsl in tagged_list]"
   ]
  },
  {
   "cell_type": "code",
   "execution_count": 18,
   "id": "f281f972-74b3-4131-a655-cb78e689c3cf",
   "metadata": {},
   "outputs": [
    {
     "data": {
      "text/plain": [
       "[('aba', 'JJ'),\n",
       " ('decides', 'NNS'),\n",
       " ('against', 'IN'),\n",
       " ('community', 'NN'),\n",
       " ('broadcasting', 'NN'),\n",
       " ('licence', 'NN')]"
      ]
     },
     "execution_count": 18,
     "metadata": {},
     "output_type": "execute_result"
    }
   ],
   "source": [
    "pred_tags[0]"
   ]
  },
  {
   "cell_type": "code",
   "execution_count": 19,
   "id": "9617c699-7a91-467f-8005-a35221e59b44",
   "metadata": {},
   "outputs": [],
   "source": [
    "#saving pred_tags\n",
    "import pickle\n",
    "\n",
    "with open('../Output/pred_tags_nltk', 'wb') as fp:\n",
    "    pickle.dump(pred_tags, fp)"
   ]
  },
  {
   "cell_type": "code",
   "execution_count": null,
   "id": "a5b9c029-08c0-46fd-a050-f568937f0ce6",
   "metadata": {},
   "outputs": [],
   "source": []
  }
 ],
 "metadata": {
  "kernelspec": {
   "display_name": "Python 3 (ipykernel)",
   "language": "python",
   "name": "python3"
  },
  "language_info": {
   "codemirror_mode": {
    "name": "ipython",
    "version": 3
   },
   "file_extension": ".py",
   "mimetype": "text/x-python",
   "name": "python",
   "nbconvert_exporter": "python",
   "pygments_lexer": "ipython3",
   "version": "3.9.13"
  }
 },
 "nbformat": 4,
 "nbformat_minor": 5
}
