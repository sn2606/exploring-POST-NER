{
 "cells": [
  {
   "cell_type": "code",
   "execution_count": 1,
   "id": "c61940d1-6724-4f63-bd1d-ec6a0ea30066",
   "metadata": {},
   "outputs": [],
   "source": [
    "import pickle\n",
    "\n",
    "with open('../text-input', 'rb') as fp:\n",
    "    text = pickle.load(fp)"
   ]
  },
  {
   "cell_type": "code",
   "execution_count": 2,
   "id": "df770c73-4a1b-44c9-8d67-2ee523d977a5",
   "metadata": {},
   "outputs": [],
   "source": [
    "import nltk\n",
    "from nltk.corpus import stopwords\n",
    "from nltk.tokenize import word_tokenize, sent_tokenize\n",
    "stop_words = set(stopwords.words('english'))"
   ]
  },
  {
   "cell_type": "code",
   "execution_count": 3,
   "id": "555ff117-f546-49f4-abee-5cf78bd25b34",
   "metadata": {},
   "outputs": [],
   "source": [
    "def tokenize(sentence):\n",
    "    tokenized = sent_tokenize(sentence)\n",
    "    words_list = []\n",
    "    for i in tokenized:\n",
    "        wt = nltk.word_tokenize(i)\n",
    "        words_list.append(wt)#[w for w in wt if not w in stop_words]\n",
    "    return words_list"
   ]
  },
  {
   "cell_type": "code",
   "execution_count": 4,
   "id": "de1d090b-6e2e-49e2-80e3-223a3bfba7e4",
   "metadata": {},
   "outputs": [],
   "source": [
    "token_list = [tokenize(doc) for doc in text]"
   ]
  },
  {
   "cell_type": "code",
   "execution_count": 5,
   "id": "b9392420-e16e-405f-8a54-8ee2f8e4e816",
   "metadata": {},
   "outputs": [],
   "source": [
    "tagged_list = [[nltk.pos_tag(words) for words in tk] for tk in token_list]"
   ]
  },
  {
   "cell_type": "code",
   "execution_count": 6,
   "id": "0cecce86-58f0-48bd-b2d7-6e29c98102bd",
   "metadata": {},
   "outputs": [],
   "source": [
    "ner_list = [[nltk.ne_chunk(tags) for tags in tg] for tg in tagged_list]"
   ]
  },
  {
   "cell_type": "code",
   "execution_count": 13,
   "id": "903981c2-c900-4f6d-a27a-5925e8d36ea2",
   "metadata": {},
   "outputs": [
    {
     "name": "stdout",
     "output_type": "stream",
     "text": [
      "[('A', 'DT'), ('bartender', 'NN'), ('is', 'VBZ'), ('working', 'VBG'), ('at', 'IN'), ('a', 'DT'), ('saloon', 'NN'), (',', ','), ('serving', 'VBG'), ('drinks', 'NNS'), ('to', 'TO'), ('customers', 'NNS'), ('.', '.')]\n",
      "[('After', 'IN'), ('he', 'PRP'), ('fills', 'VBZ'), ('a', 'DT'), ('stereotypically', 'RB'), ('Irish', 'JJ'), ('man', 'NN'), (\"'s\", 'POS'), ('bucket', 'NN'), ('with', 'IN'), ('beer', 'NN'), (',', ','), ('Carrie', 'NNP'), ('Nation', 'NNP'), ('and', 'CC'), ('her', 'PRP$'), ('followers', 'NNS'), ('burst', 'JJ'), ('inside', 'RB'), ('.', '.')]\n",
      "[('They', 'PRP'), ('assault', 'VBP'), ('the', 'DT'), ('Irish', 'NNP'), ('man', 'NN'), (',', ','), ('pulling', 'VBG'), ('his', 'PRP$'), ('hat', 'NN'), ('over', 'IN'), ('his', 'PRP$'), ('eyes', 'NNS'), ('and', 'CC'), ('then', 'RB'), ('dumping', 'VBG'), ('the', 'DT'), ('beer', 'NN'), ('over', 'IN'), ('his', 'PRP$'), ('head', 'NN'), ('.', '.')]\n",
      "[('The', 'DT'), ('group', 'NN'), ('then', 'RB'), ('begin', 'VBZ'), ('wrecking', 'VBG'), ('the', 'DT'), ('bar', 'NN'), (',', ','), ('smashing', 'VBG'), ('the', 'DT'), ('fixtures', 'NNS'), (',', ','), ('mirrors', 'NNS'), (',', ','), ('and', 'CC'), ('breaking', 'VBG'), ('the', 'DT'), ('cash', 'NN'), ('register', 'NN'), ('.', '.')]\n",
      "[('The', 'DT'), ('bartender', 'NN'), ('then', 'RB'), ('sprays', 'VBZ'), ('seltzer', 'NN'), ('water', 'NN'), ('in', 'IN'), ('Nation', 'NNP'), (\"'s\", 'POS'), ('face', 'NN'), ('before', 'IN'), ('a', 'DT'), ('group', 'NN'), ('of', 'IN'), ('policemen', 'NNS'), ('appear', 'VBP'), ('and', 'CC'), ('order', 'NN'), ('everybody', 'NN'), ('to', 'TO'), ('leave', 'VB'), ('.', '.')]\n",
      "[('[', 'RB'), ('1', 'CD'), (']', 'NNS')]\n"
     ]
    }
   ],
   "source": [
    "from IPython.display import display\n",
    "\n",
    "for tree in ner_list[0]:\n",
    "    # display(tree)\n",
    "    print(tree.leaves())"
   ]
  },
  {
   "cell_type": "code",
   "execution_count": null,
   "id": "9b057a79-87f8-43f7-ae52-5c11fdbf8bad",
   "metadata": {},
   "outputs": [],
   "source": []
  }
 ],
 "metadata": {
  "kernelspec": {
   "display_name": "Python 3 (ipykernel)",
   "language": "python",
   "name": "python3"
  },
  "language_info": {
   "codemirror_mode": {
    "name": "ipython",
    "version": 3
   },
   "file_extension": ".py",
   "mimetype": "text/x-python",
   "name": "python",
   "nbconvert_exporter": "python",
   "pygments_lexer": "ipython3",
   "version": "3.9.13"
  }
 },
 "nbformat": 4,
 "nbformat_minor": 5
}
