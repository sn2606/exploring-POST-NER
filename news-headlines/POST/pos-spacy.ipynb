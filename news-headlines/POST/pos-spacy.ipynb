{
 "cells": [
  {
   "cell_type": "code",
   "execution_count": 1,
   "id": "4298ef12-a294-4ff5-8e13-48e3c74ac998",
   "metadata": {},
   "outputs": [],
   "source": [
    "import numpy as np\n",
    "import pandas as pd\n",
    "import nltk\n",
    "from nltk import word_tokenize\n",
    "import spacy\n",
    "from spacy import displacy\n",
    "import string\n",
    "import seaborn as sb\n",
    "import matplotlib.pyplot as plt"
   ]
  },
  {
   "cell_type": "code",
   "execution_count": 2,
   "id": "1ce5e4b8-9eb8-4787-9af3-e983cdfb9ee3",
   "metadata": {},
   "outputs": [
    {
     "data": {
      "text/html": [
       "<div>\n",
       "<style scoped>\n",
       "    .dataframe tbody tr th:only-of-type {\n",
       "        vertical-align: middle;\n",
       "    }\n",
       "\n",
       "    .dataframe tbody tr th {\n",
       "        vertical-align: top;\n",
       "    }\n",
       "\n",
       "    .dataframe thead th {\n",
       "        text-align: right;\n",
       "    }\n",
       "</style>\n",
       "<table border=\"1\" class=\"dataframe\">\n",
       "  <thead>\n",
       "    <tr style=\"text-align: right;\">\n",
       "      <th></th>\n",
       "      <th>publish_date</th>\n",
       "      <th>headline_text</th>\n",
       "    </tr>\n",
       "  </thead>\n",
       "  <tbody>\n",
       "    <tr>\n",
       "      <th>0</th>\n",
       "      <td>2003-02-19</td>\n",
       "      <td>aba decides against community broadcasting lic...</td>\n",
       "    </tr>\n",
       "    <tr>\n",
       "      <th>1</th>\n",
       "      <td>2003-02-19</td>\n",
       "      <td>act fire witnesses must be aware of defamation</td>\n",
       "    </tr>\n",
       "    <tr>\n",
       "      <th>2</th>\n",
       "      <td>2003-02-19</td>\n",
       "      <td>a g calls for infrastructure protection summit</td>\n",
       "    </tr>\n",
       "    <tr>\n",
       "      <th>3</th>\n",
       "      <td>2003-02-19</td>\n",
       "      <td>air nz staff in aust strike for pay rise</td>\n",
       "    </tr>\n",
       "    <tr>\n",
       "      <th>4</th>\n",
       "      <td>2003-02-19</td>\n",
       "      <td>air nz strike to affect australian travellers</td>\n",
       "    </tr>\n",
       "  </tbody>\n",
       "</table>\n",
       "</div>"
      ],
      "text/plain": [
       "  publish_date                                      headline_text\n",
       "0   2003-02-19  aba decides against community broadcasting lic...\n",
       "1   2003-02-19     act fire witnesses must be aware of defamation\n",
       "2   2003-02-19     a g calls for infrastructure protection summit\n",
       "3   2003-02-19           air nz staff in aust strike for pay rise\n",
       "4   2003-02-19      air nz strike to affect australian travellers"
      ]
     },
     "execution_count": 2,
     "metadata": {},
     "output_type": "execute_result"
    }
   ],
   "source": [
    "df = pd.read_csv('../abcnews-date-text.csv', parse_dates=[0], infer_datetime_format=True)\n",
    "df.head()"
   ]
  },
  {
   "cell_type": "code",
   "execution_count": 3,
   "id": "b2f5eb71-648f-4c49-9d28-ef76cd905a25",
   "metadata": {},
   "outputs": [
    {
     "data": {
      "text/plain": [
       "(1244184, 2)"
      ]
     },
     "execution_count": 3,
     "metadata": {},
     "output_type": "execute_result"
    }
   ],
   "source": [
    "df.shape"
   ]
  },
  {
   "cell_type": "code",
   "execution_count": 4,
   "id": "3f368aef-c6dc-449e-aa1b-23edf4475c64",
   "metadata": {},
   "outputs": [],
   "source": [
    "df = df.drop_duplicates(subset='headline_text', keep='first')"
   ]
  },
  {
   "cell_type": "code",
   "execution_count": 5,
   "id": "406ad346-5ac6-47cf-9a47-48bbd1e97ad7",
   "metadata": {},
   "outputs": [
    {
     "name": "stdout",
     "output_type": "stream",
     "text": [
      "<class 'pandas.core.series.Series'>\n",
      "(1213004,)\n"
     ]
    }
   ],
   "source": [
    "text = df['headline_text']\n",
    "print(type(text))\n",
    "print(text.shape)"
   ]
  },
  {
   "cell_type": "code",
   "execution_count": 6,
   "id": "59efce9f-a9ad-45a5-b332-399cee50183c",
   "metadata": {},
   "outputs": [
    {
     "name": "stderr",
     "output_type": "stream",
     "text": [
      "/var/folders/b2/_68m8r0j7rqg0k17ytq7jtc80000gn/T/ipykernel_1497/3862757789.py:1: FutureWarning: The behavior of `series[i:j]` with an integer-dtype index is deprecated. In a future version, this will be treated as *label-based* indexing, consistent with e.g. `series[i]` lookups. To retain the old behavior, use `series.iloc[i:j]`. To get the future behavior, use `series.loc[i:j]`.\n",
      "  text[0:10]\n"
     ]
    },
    {
     "data": {
      "text/plain": [
       "0    aba decides against community broadcasting lic...\n",
       "1       act fire witnesses must be aware of defamation\n",
       "2       a g calls for infrastructure protection summit\n",
       "3             air nz staff in aust strike for pay rise\n",
       "4        air nz strike to affect australian travellers\n",
       "5                    ambitious olsson wins triple jump\n",
       "6           antic delighted with record breaking barca\n",
       "7    aussie qualifier stosur wastes four memphis match\n",
       "8         aust addresses un security council over iraq\n",
       "9           australia is locked into war timetable opp\n",
       "Name: headline_text, dtype: object"
      ]
     },
     "execution_count": 6,
     "metadata": {},
     "output_type": "execute_result"
    }
   ],
   "source": [
    "text[0:10]"
   ]
  },
  {
   "cell_type": "code",
   "execution_count": 7,
   "id": "d2f90ba5-72d7-4b65-8f65-a9f92a20df81",
   "metadata": {},
   "outputs": [
    {
     "data": {
      "text/plain": [
       "str"
      ]
     },
     "execution_count": 7,
     "metadata": {},
     "output_type": "execute_result"
    }
   ],
   "source": [
    "type(text[0])"
   ]
  },
  {
   "cell_type": "markdown",
   "id": "660c74d3-ac47-48a8-b9ba-8ee563d432a8",
   "metadata": {},
   "source": [
    "## POS with spaCy"
   ]
  },
  {
   "cell_type": "code",
   "execution_count": 8,
   "id": "fd7ab250-641a-4c82-ac9a-153b9e0db877",
   "metadata": {},
   "outputs": [],
   "source": [
    "from dframcy import DframCy\n",
    "\n",
    "nlp = spacy.load(\"en_core_web_sm\")\n",
    "dframcy = DframCy(nlp)"
   ]
  },
  {
   "cell_type": "code",
   "execution_count": 9,
   "id": "039d1699-2aea-4623-8cf2-128524114ac2",
   "metadata": {},
   "outputs": [],
   "source": [
    "docs = list(nlp.pipe(text))"
   ]
  },
  {
   "cell_type": "code",
   "execution_count": 10,
   "id": "552cc9a0-5476-41ac-9d15-19ab04653819",
   "metadata": {},
   "outputs": [],
   "source": [
    "# columns = ['ID', 'Text', 'Token', 'Lemma', 'POS', 'POS Tag', 'Dep', 'Is_stop']"
   ]
  },
  {
   "cell_type": "code",
   "execution_count": 11,
   "id": "c0635c24-3fae-499b-a5b1-a3d73c3f0f77",
   "metadata": {},
   "outputs": [
    {
     "data": {
      "text/html": [
       "<div>\n",
       "<style scoped>\n",
       "    .dataframe tbody tr th:only-of-type {\n",
       "        vertical-align: middle;\n",
       "    }\n",
       "\n",
       "    .dataframe tbody tr th {\n",
       "        vertical-align: top;\n",
       "    }\n",
       "\n",
       "    .dataframe thead th {\n",
       "        text-align: right;\n",
       "    }\n",
       "</style>\n",
       "<table border=\"1\" class=\"dataframe\">\n",
       "  <thead>\n",
       "    <tr style=\"text-align: right;\">\n",
       "      <th></th>\n",
       "      <th>ID</th>\n",
       "      <th>Text</th>\n",
       "      <th>Token</th>\n",
       "      <th>Lemma</th>\n",
       "      <th>POS</th>\n",
       "      <th>POS Tag</th>\n",
       "      <th>Dep</th>\n",
       "      <th>Is_stop</th>\n",
       "    </tr>\n",
       "  </thead>\n",
       "  <tbody>\n",
       "  </tbody>\n",
       "</table>\n",
       "</div>"
      ],
      "text/plain": [
       "Empty DataFrame\n",
       "Columns: [ID, Text, Token, Lemma, POS, POS Tag, Dep, Is_stop]\n",
       "Index: []"
      ]
     },
     "execution_count": 11,
     "metadata": {},
     "output_type": "execute_result"
    }
   ],
   "source": [
    "# annotation = pd.DataFrame(columns = columns)\n",
    "# annotation"
   ]
  },
  {
   "cell_type": "code",
   "execution_count": 12,
   "id": "4a1ef1a2-8003-436f-b3d6-6d3fec9ad3a3",
   "metadata": {},
   "outputs": [],
   "source": [
    "# count = 0\n",
    "# for txt_idx, doc in enumerate(docs):\n",
    "#     for token in doc:\n",
    "#         annotation.loc[count] = {'ID': txt_idx, 'Text': doc.text, 'Token': token.text, \n",
    "#                                  'Lemma': token.lemma_, 'POS': token.pos_, 'POS Tag': token.tag_, \n",
    "#                                  'Dep': token.dep_, 'Is_stop': token.is_stop}\n",
    "#         count += 1"
   ]
  },
  {
   "cell_type": "code",
   "execution_count": 15,
   "id": "de18862e-9a94-40bf-86c9-768e67e81673",
   "metadata": {},
   "outputs": [],
   "source": [
    "pred_tags = [[(token.text, token.tag_) for token in doc] for doc in docs]"
   ]
  },
  {
   "cell_type": "code",
   "execution_count": 19,
   "id": "5845ebc5-da62-4fe2-a5f4-cacd5de7a67a",
   "metadata": {},
   "outputs": [
    {
     "data": {
      "text/plain": [
       "True"
      ]
     },
     "execution_count": 19,
     "metadata": {},
     "output_type": "execute_result"
    }
   ],
   "source": [
    "len(pred_tags) == len(df)"
   ]
  },
  {
   "cell_type": "code",
   "execution_count": 20,
   "id": "97aad663-465d-479c-9d15-e75a59ce5e12",
   "metadata": {},
   "outputs": [],
   "source": [
    "#saving pred_tags\n",
    "import pickle\n",
    "\n",
    "with open('../Output/pred_tags_spacy', 'wb') as fp:\n",
    "    pickle.dump(pred_tags, fp)"
   ]
  },
  {
   "cell_type": "code",
   "execution_count": null,
   "id": "3da8bd2c-b25b-4c61-9a0d-81711022397b",
   "metadata": {},
   "outputs": [],
   "source": []
  }
 ],
 "metadata": {
  "kernelspec": {
   "display_name": "Python 3 (ipykernel)",
   "language": "python",
   "name": "python3"
  },
  "language_info": {
   "codemirror_mode": {
    "name": "ipython",
    "version": 3
   },
   "file_extension": ".py",
   "mimetype": "text/x-python",
   "name": "python",
   "nbconvert_exporter": "python",
   "pygments_lexer": "ipython3",
   "version": "3.9.13"
  }
 },
 "nbformat": 4,
 "nbformat_minor": 5
}
